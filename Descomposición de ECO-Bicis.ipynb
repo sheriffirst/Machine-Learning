{
 "cells": [
  {
   "cell_type": "markdown",
   "id": "5edddec3",
   "metadata": {},
   "source": [
    "# Dependencias"
   ]
  },
  {
   "cell_type": "code",
   "execution_count": 1,
   "id": "bd071bb2",
   "metadata": {
    "ExecuteTime": {
     "end_time": "2022-07-17T01:30:52.547532Z",
     "start_time": "2022-07-17T01:30:50.281224Z"
    }
   },
   "outputs": [
    {
     "data": {
      "text/html": [
       "        <script type=\"text/javascript\">\n",
       "        window.PlotlyConfig = {MathJaxConfig: 'local'};\n",
       "        if (window.MathJax) {MathJax.Hub.Config({SVG: {font: \"STIX-Web\"}});}\n",
       "        if (typeof require !== 'undefined') {\n",
       "        require.undef(\"plotly\");\n",
       "        requirejs.config({\n",
       "            paths: {\n",
       "                'plotly': ['https://cdn.plot.ly/plotly-2.3.1.min']\n",
       "            }\n",
       "        });\n",
       "        require(['plotly'], function(Plotly) {\n",
       "            window._Plotly = Plotly;\n",
       "        });\n",
       "        }\n",
       "        </script>\n",
       "        "
      ]
     },
     "metadata": {},
     "output_type": "display_data"
    }
   ],
   "source": [
    "import pandas as pd\n",
    "import numpy as np \n",
    "\n",
    "import matplotlib.pyplot as plt\n",
    "import seaborn as sns\n",
    "import cufflinks as cf\n",
    "from datetime import date,datetime\n",
    "from dateutil.relativedelta import relativedelta as rd\n",
    "from sklearn.impute import SimpleImputer\n",
    "from sklearn.model_selection import train_test_split\n",
    "from sklearn.discriminant_analysis import LinearDiscriminantAnalysis\n",
    "from sklearn.metrics import accuracy_score,roc_auc_score\n",
    "from sklearn.feature_selection import SelectKBest\n",
    "from scipy import stats\n",
    "from varclushi import VarClusHi\n",
    "from sklearn.svm import SVC\n",
    "from sklearn.model_selection import GridSearchCV,RandomizedSearchCV\n",
    "from sklearn.preprocessing import MinMaxScaler\n",
    "\n",
    "\n",
    "from functools import reduce\n",
    "import os\n",
    "\n",
    "cf.go_offline()"
   ]
  },
  {
   "cell_type": "markdown",
   "id": "cc2b2f05",
   "metadata": {},
   "source": [
    "# Planteamiento del Problema"
   ]
  },
  {
   "cell_type": "markdown",
   "id": "cd8f067e",
   "metadata": {
    "ExecuteTime": {
     "end_time": "2022-07-16T02:34:40.310867Z",
     "start_time": "2022-07-16T02:34:40.305504Z"
    }
   },
   "source": [
    "Crear un modelo para predecir la descompostura o fin de vida útil de las bicicletas  \n",
    "La unidad muestral son las bicis y construiremos la target   \n",
    "El intervalo de observación será de 3 semanas."
   ]
  },
  {
   "cell_type": "markdown",
   "id": "e40a1e4b",
   "metadata": {},
   "source": [
    "# Lectura de Datos"
   ]
  },
  {
   "cell_type": "code",
   "execution_count": 2,
   "id": "96cc0a6c",
   "metadata": {
    "ExecuteTime": {
     "end_time": "2022-07-17T01:30:58.282010Z",
     "start_time": "2022-07-17T01:30:58.274034Z"
    }
   },
   "outputs": [
    {
     "data": {
      "text/plain": [
       "'/home/rodolfo/Documentos/Modelos/ECO-BICI/'"
      ]
     },
     "execution_count": 2,
     "metadata": {},
     "output_type": "execute_result"
    }
   ],
   "source": [
    "ruta = '/home/rodolfo/Documentos/Modelos/ECO-BICI/'\n",
    "ruta"
   ]
  },
  {
   "cell_type": "code",
   "execution_count": 3,
   "id": "abc7ebae",
   "metadata": {
    "ExecuteTime": {
     "end_time": "2022-07-17T01:30:58.938212Z",
     "start_time": "2022-07-17T01:30:58.929828Z"
    }
   },
   "outputs": [
    {
     "data": {
      "text/plain": [
       "['/home/rodolfo/Documentos/Modelos/ECO-BICI/2018-05.csv',\n",
       " '/home/rodolfo/Documentos/Modelos/ECO-BICI/2018-12.csv',\n",
       " '/home/rodolfo/Documentos/Modelos/ECO-BICI/2018-09.csv',\n",
       " '/home/rodolfo/Documentos/Modelos/ECO-BICI/2018-10.csv',\n",
       " '/home/rodolfo/Documentos/Modelos/ECO-BICI/2018-04.csv',\n",
       " '/home/rodolfo/Documentos/Modelos/ECO-BICI/2018-01.csv',\n",
       " '/home/rodolfo/Documentos/Modelos/ECO-BICI/2018-03.csv',\n",
       " '/home/rodolfo/Documentos/Modelos/ECO-BICI/2018-02.csv',\n",
       " '/home/rodolfo/Documentos/Modelos/ECO-BICI/2018-06.csv',\n",
       " '/home/rodolfo/Documentos/Modelos/ECO-BICI/2018-11.csv',\n",
       " '/home/rodolfo/Documentos/Modelos/ECO-BICI/2018-08.csv',\n",
       " '/home/rodolfo/Documentos/Modelos/ECO-BICI/2018-07.csv']"
      ]
     },
     "execution_count": 3,
     "metadata": {},
     "output_type": "execute_result"
    }
   ],
   "source": [
    "rutas = [os.path.join(ruta,x) for x in os.listdir(ruta) if x[0] == '2']\n",
    "rutas"
   ]
  },
  {
   "cell_type": "code",
   "execution_count": 4,
   "id": "f33d06ac",
   "metadata": {
    "ExecuteTime": {
     "end_time": "2022-07-17T01:31:02.727722Z",
     "start_time": "2022-07-17T01:31:02.722455Z"
    }
   },
   "outputs": [],
   "source": [
    "unir = lambda x,y:pd.concat([x,y], ignore_index =True)\n",
    "datf = lambda x:pd.read_csv(x)"
   ]
  },
  {
   "cell_type": "code",
   "execution_count": 5,
   "id": "0456b4de",
   "metadata": {
    "ExecuteTime": {
     "end_time": "2022-07-17T01:31:22.523897Z",
     "start_time": "2022-07-17T01:31:04.901350Z"
    }
   },
   "outputs": [
    {
     "name": "stderr",
     "output_type": "stream",
     "text": [
      "/tmp/ipykernel_5758/862667603.py:1: DtypeWarning:\n",
      "\n",
      "Columns (2) have mixed types.Specify dtype option on import or set low_memory=False.\n",
      "\n"
     ]
    },
    {
     "data": {
      "text/html": [
       "<div>\n",
       "<style scoped>\n",
       "    .dataframe tbody tr th:only-of-type {\n",
       "        vertical-align: middle;\n",
       "    }\n",
       "\n",
       "    .dataframe tbody tr th {\n",
       "        vertical-align: top;\n",
       "    }\n",
       "\n",
       "    .dataframe thead th {\n",
       "        text-align: right;\n",
       "    }\n",
       "</style>\n",
       "<table border=\"1\" class=\"dataframe\">\n",
       "  <thead>\n",
       "    <tr style=\"text-align: right;\">\n",
       "      <th></th>\n",
       "      <th>Genero_Usuario</th>\n",
       "      <th>Edad_Usuario</th>\n",
       "      <th>Bici</th>\n",
       "      <th>Ciclo_Estacion_Retiro</th>\n",
       "      <th>Fecha_Retiro</th>\n",
       "      <th>Hora_Retiro</th>\n",
       "      <th>Ciclo_Estacion_Arribo</th>\n",
       "      <th>Fecha_Arribo</th>\n",
       "      <th>Hora_Arribo</th>\n",
       "    </tr>\n",
       "  </thead>\n",
       "  <tbody>\n",
       "    <tr>\n",
       "      <th>0</th>\n",
       "      <td>M</td>\n",
       "      <td>32</td>\n",
       "      <td>10060</td>\n",
       "      <td>236</td>\n",
       "      <td>01/05/2018</td>\n",
       "      <td>0:00:52</td>\n",
       "      <td>215</td>\n",
       "      <td>01/05/2018</td>\n",
       "      <td>0:03:42</td>\n",
       "    </tr>\n",
       "    <tr>\n",
       "      <th>1</th>\n",
       "      <td>M</td>\n",
       "      <td>22</td>\n",
       "      <td>10292</td>\n",
       "      <td>5</td>\n",
       "      <td>01/05/2018</td>\n",
       "      <td>0:00:53</td>\n",
       "      <td>112</td>\n",
       "      <td>01/05/2018</td>\n",
       "      <td>0:42:52</td>\n",
       "    </tr>\n",
       "    <tr>\n",
       "      <th>2</th>\n",
       "      <td>F</td>\n",
       "      <td>23</td>\n",
       "      <td>3488</td>\n",
       "      <td>15</td>\n",
       "      <td>01/05/2018</td>\n",
       "      <td>0:00:54</td>\n",
       "      <td>31</td>\n",
       "      <td>01/05/2018</td>\n",
       "      <td>0:10:10</td>\n",
       "    </tr>\n",
       "    <tr>\n",
       "      <th>3</th>\n",
       "      <td>M</td>\n",
       "      <td>30</td>\n",
       "      <td>2978</td>\n",
       "      <td>435</td>\n",
       "      <td>01/05/2018</td>\n",
       "      <td>0:01:05</td>\n",
       "      <td>396</td>\n",
       "      <td>01/05/2018</td>\n",
       "      <td>0:04:10</td>\n",
       "    </tr>\n",
       "    <tr>\n",
       "      <th>4</th>\n",
       "      <td>M</td>\n",
       "      <td>27</td>\n",
       "      <td>10256</td>\n",
       "      <td>15</td>\n",
       "      <td>01/05/2018</td>\n",
       "      <td>0:01:06</td>\n",
       "      <td>31</td>\n",
       "      <td>01/05/2018</td>\n",
       "      <td>0:10:07</td>\n",
       "    </tr>\n",
       "  </tbody>\n",
       "</table>\n",
       "</div>"
      ],
      "text/plain": [
       "  Genero_Usuario  Edad_Usuario   Bici  Ciclo_Estacion_Retiro Fecha_Retiro  \\\n",
       "0              M            32  10060                    236   01/05/2018   \n",
       "1              M            22  10292                      5   01/05/2018   \n",
       "2              F            23   3488                     15   01/05/2018   \n",
       "3              M            30   2978                    435   01/05/2018   \n",
       "4              M            27  10256                     15   01/05/2018   \n",
       "\n",
       "  Hora_Retiro  Ciclo_Estacion_Arribo Fecha_Arribo Hora_Arribo  \n",
       "0     0:00:52                    215   01/05/2018     0:03:42  \n",
       "1     0:00:53                    112   01/05/2018     0:42:52  \n",
       "2     0:00:54                     31   01/05/2018     0:10:10  \n",
       "3     0:01:05                    396   01/05/2018     0:04:10  \n",
       "4     0:01:06                     31   01/05/2018     0:10:07  "
      ]
     },
     "execution_count": 5,
     "metadata": {},
     "output_type": "execute_result"
    }
   ],
   "source": [
    "df = reduce(unir,map(datf, rutas))\n",
    "df.head()"
   ]
  },
  {
   "cell_type": "markdown",
   "id": "5f1425bc",
   "metadata": {},
   "source": [
    "# Limpieza de datos"
   ]
  },
  {
   "cell_type": "code",
   "execution_count": 6,
   "id": "796f996c",
   "metadata": {
    "ExecuteTime": {
     "end_time": "2022-07-17T01:32:13.092770Z",
     "start_time": "2022-07-17T01:31:22.525902Z"
    }
   },
   "outputs": [],
   "source": [
    "for i in ['Retiro','Arribo']:\n",
    "    df[f'Fecha_{i}'] = pd.to_datetime(df[f'Fecha_{i}'] + ' ' + df[f'Hora_{i}'], \n",
    "                                   format='%d/%m/%Y %H:%M:%S',\n",
    "                                   errors='coerce')\n",
    "    df.drop([f'Hora_{i}'], axis =1, inplace = True)"
   ]
  },
  {
   "cell_type": "code",
   "execution_count": 7,
   "id": "ac42d1ab",
   "metadata": {
    "ExecuteTime": {
     "end_time": "2022-07-17T01:32:13.104574Z",
     "start_time": "2022-07-17T01:32:13.094290Z"
    }
   },
   "outputs": [
    {
     "data": {
      "text/html": [
       "<div>\n",
       "<style scoped>\n",
       "    .dataframe tbody tr th:only-of-type {\n",
       "        vertical-align: middle;\n",
       "    }\n",
       "\n",
       "    .dataframe tbody tr th {\n",
       "        vertical-align: top;\n",
       "    }\n",
       "\n",
       "    .dataframe thead th {\n",
       "        text-align: right;\n",
       "    }\n",
       "</style>\n",
       "<table border=\"1\" class=\"dataframe\">\n",
       "  <thead>\n",
       "    <tr style=\"text-align: right;\">\n",
       "      <th></th>\n",
       "      <th>Genero_Usuario</th>\n",
       "      <th>Edad_Usuario</th>\n",
       "      <th>Bici</th>\n",
       "      <th>Ciclo_Estacion_Retiro</th>\n",
       "      <th>Fecha_Retiro</th>\n",
       "      <th>Ciclo_Estacion_Arribo</th>\n",
       "      <th>Fecha_Arribo</th>\n",
       "    </tr>\n",
       "  </thead>\n",
       "  <tbody>\n",
       "    <tr>\n",
       "      <th>0</th>\n",
       "      <td>M</td>\n",
       "      <td>32</td>\n",
       "      <td>10060</td>\n",
       "      <td>236</td>\n",
       "      <td>2018-05-01 00:00:52</td>\n",
       "      <td>215</td>\n",
       "      <td>2018-05-01 00:03:42</td>\n",
       "    </tr>\n",
       "    <tr>\n",
       "      <th>1</th>\n",
       "      <td>M</td>\n",
       "      <td>22</td>\n",
       "      <td>10292</td>\n",
       "      <td>5</td>\n",
       "      <td>2018-05-01 00:00:53</td>\n",
       "      <td>112</td>\n",
       "      <td>2018-05-01 00:42:52</td>\n",
       "    </tr>\n",
       "    <tr>\n",
       "      <th>2</th>\n",
       "      <td>F</td>\n",
       "      <td>23</td>\n",
       "      <td>3488</td>\n",
       "      <td>15</td>\n",
       "      <td>2018-05-01 00:00:54</td>\n",
       "      <td>31</td>\n",
       "      <td>2018-05-01 00:10:10</td>\n",
       "    </tr>\n",
       "    <tr>\n",
       "      <th>3</th>\n",
       "      <td>M</td>\n",
       "      <td>30</td>\n",
       "      <td>2978</td>\n",
       "      <td>435</td>\n",
       "      <td>2018-05-01 00:01:05</td>\n",
       "      <td>396</td>\n",
       "      <td>2018-05-01 00:04:10</td>\n",
       "    </tr>\n",
       "    <tr>\n",
       "      <th>4</th>\n",
       "      <td>M</td>\n",
       "      <td>27</td>\n",
       "      <td>10256</td>\n",
       "      <td>15</td>\n",
       "      <td>2018-05-01 00:01:06</td>\n",
       "      <td>31</td>\n",
       "      <td>2018-05-01 00:10:07</td>\n",
       "    </tr>\n",
       "  </tbody>\n",
       "</table>\n",
       "</div>"
      ],
      "text/plain": [
       "  Genero_Usuario  Edad_Usuario   Bici  Ciclo_Estacion_Retiro  \\\n",
       "0              M            32  10060                    236   \n",
       "1              M            22  10292                      5   \n",
       "2              F            23   3488                     15   \n",
       "3              M            30   2978                    435   \n",
       "4              M            27  10256                     15   \n",
       "\n",
       "         Fecha_Retiro  Ciclo_Estacion_Arribo        Fecha_Arribo  \n",
       "0 2018-05-01 00:00:52                    215 2018-05-01 00:03:42  \n",
       "1 2018-05-01 00:00:53                    112 2018-05-01 00:42:52  \n",
       "2 2018-05-01 00:00:54                     31 2018-05-01 00:10:10  \n",
       "3 2018-05-01 00:01:05                    396 2018-05-01 00:04:10  \n",
       "4 2018-05-01 00:01:06                     31 2018-05-01 00:10:07  "
      ]
     },
     "execution_count": 7,
     "metadata": {},
     "output_type": "execute_result"
    }
   ],
   "source": [
    "df.head()"
   ]
  },
  {
   "cell_type": "markdown",
   "id": "0e969fe4",
   "metadata": {},
   "source": [
    "## Definición de Variables"
   ]
  },
  {
   "cell_type": "code",
   "execution_count": 8,
   "id": "a2d6eceb",
   "metadata": {
    "ExecuteTime": {
     "end_time": "2022-07-17T01:32:13.401606Z",
     "start_time": "2022-07-17T01:32:13.106210Z"
    }
   },
   "outputs": [
    {
     "data": {
      "text/html": [
       "<div>\n",
       "<style scoped>\n",
       "    .dataframe tbody tr th:only-of-type {\n",
       "        vertical-align: middle;\n",
       "    }\n",
       "\n",
       "    .dataframe tbody tr th {\n",
       "        vertical-align: top;\n",
       "    }\n",
       "\n",
       "    .dataframe thead th {\n",
       "        text-align: right;\n",
       "    }\n",
       "</style>\n",
       "<table border=\"1\" class=\"dataframe\">\n",
       "  <thead>\n",
       "    <tr style=\"text-align: right;\">\n",
       "      <th></th>\n",
       "      <th>Bici</th>\n",
       "      <th>Fecha_Arribo</th>\n",
       "      <th>Fecha_Retiro</th>\n",
       "    </tr>\n",
       "  </thead>\n",
       "  <tbody>\n",
       "    <tr>\n",
       "      <th>0</th>\n",
       "      <td>10060</td>\n",
       "      <td>2018-05-01 00:03:42</td>\n",
       "      <td>2018-05-01 00:00:52</td>\n",
       "    </tr>\n",
       "    <tr>\n",
       "      <th>1</th>\n",
       "      <td>10292</td>\n",
       "      <td>2018-05-01 00:42:52</td>\n",
       "      <td>2018-05-01 00:00:53</td>\n",
       "    </tr>\n",
       "    <tr>\n",
       "      <th>2</th>\n",
       "      <td>3488</td>\n",
       "      <td>2018-05-01 00:10:10</td>\n",
       "      <td>2018-05-01 00:00:54</td>\n",
       "    </tr>\n",
       "    <tr>\n",
       "      <th>3</th>\n",
       "      <td>2978</td>\n",
       "      <td>2018-05-01 00:04:10</td>\n",
       "      <td>2018-05-01 00:01:05</td>\n",
       "    </tr>\n",
       "    <tr>\n",
       "      <th>4</th>\n",
       "      <td>10256</td>\n",
       "      <td>2018-05-01 00:10:07</td>\n",
       "      <td>2018-05-01 00:01:06</td>\n",
       "    </tr>\n",
       "    <tr>\n",
       "      <th>...</th>\n",
       "      <td>...</td>\n",
       "      <td>...</td>\n",
       "      <td>...</td>\n",
       "    </tr>\n",
       "    <tr>\n",
       "      <th>8540253</th>\n",
       "      <td>4311</td>\n",
       "      <td>2018-07-31 00:05:55</td>\n",
       "      <td>2018-07-30 23:57:39</td>\n",
       "    </tr>\n",
       "    <tr>\n",
       "      <th>8540254</th>\n",
       "      <td>11031</td>\n",
       "      <td>2018-07-31 00:19:04</td>\n",
       "      <td>2018-07-30 23:58:31</td>\n",
       "    </tr>\n",
       "    <tr>\n",
       "      <th>8540255</th>\n",
       "      <td>11277</td>\n",
       "      <td>2018-07-31 00:03:21</td>\n",
       "      <td>2018-07-30 23:59:06</td>\n",
       "    </tr>\n",
       "    <tr>\n",
       "      <th>8540256</th>\n",
       "      <td>7188</td>\n",
       "      <td>2018-07-31 00:10:42</td>\n",
       "      <td>2018-07-30 23:59:10</td>\n",
       "    </tr>\n",
       "    <tr>\n",
       "      <th>8540257</th>\n",
       "      <td>11226</td>\n",
       "      <td>2018-07-31 00:18:17</td>\n",
       "      <td>2018-07-30 23:59:50</td>\n",
       "    </tr>\n",
       "  </tbody>\n",
       "</table>\n",
       "<p>8540258 rows × 3 columns</p>\n",
       "</div>"
      ],
      "text/plain": [
       "          Bici        Fecha_Arribo        Fecha_Retiro\n",
       "0        10060 2018-05-01 00:03:42 2018-05-01 00:00:52\n",
       "1        10292 2018-05-01 00:42:52 2018-05-01 00:00:53\n",
       "2         3488 2018-05-01 00:10:10 2018-05-01 00:00:54\n",
       "3         2978 2018-05-01 00:04:10 2018-05-01 00:01:05\n",
       "4        10256 2018-05-01 00:10:07 2018-05-01 00:01:06\n",
       "...        ...                 ...                 ...\n",
       "8540253   4311 2018-07-31 00:05:55 2018-07-30 23:57:39\n",
       "8540254  11031 2018-07-31 00:19:04 2018-07-30 23:58:31\n",
       "8540255  11277 2018-07-31 00:03:21 2018-07-30 23:59:06\n",
       "8540256   7188 2018-07-31 00:10:42 2018-07-30 23:59:10\n",
       "8540257  11226 2018-07-31 00:18:17 2018-07-30 23:59:50\n",
       "\n",
       "[8540258 rows x 3 columns]"
      ]
     },
     "execution_count": 8,
     "metadata": {},
     "output_type": "execute_result"
    }
   ],
   "source": [
    "um = ['Bici']\n",
    "var = ['Fecha_Arribo', 'Fecha_Retiro']\n",
    "df = df[um + var].copy()\n",
    "df"
   ]
  },
  {
   "cell_type": "markdown",
   "id": "7dbb1c0a",
   "metadata": {},
   "source": [
    "# Ingeniería de Datos"
   ]
  },
  {
   "cell_type": "code",
   "execution_count": 9,
   "id": "ad42fe91",
   "metadata": {
    "ExecuteTime": {
     "end_time": "2022-07-17T01:32:13.408124Z",
     "start_time": "2022-07-17T01:32:13.404662Z"
    }
   },
   "outputs": [],
   "source": [
    "#Número de días sin utilizarse\n",
    "#Número de viajes realizados\n",
    "#Promedio de tiempo de uso\n",
    "#Veces promedio que se usa la bici por mes\n",
    "#Número de viajes en fin de semana\n",
    "#Pct de viajes en fin de semana\n",
    "#viajes por día"
   ]
  },
  {
   "cell_type": "code",
   "execution_count": 10,
   "id": "a4f74638",
   "metadata": {
    "ExecuteTime": {
     "end_time": "2022-07-17T01:33:10.454462Z",
     "start_time": "2022-07-17T01:32:13.410406Z"
    }
   },
   "outputs": [],
   "source": [
    "dias = dict(zip(range(1,8), 'LMXJVSD'))\n",
    "\n",
    "df['finde'] = df['Fecha_Arribo'].map(lambda x:x.weekday() in [6,7]).astype(int) \n",
    "df['dia'] = df['Fecha_Arribo'].map( lambda x:x.weekday()).replace(dias)"
   ]
  },
  {
   "cell_type": "code",
   "execution_count": 11,
   "id": "5162b490",
   "metadata": {
    "ExecuteTime": {
     "end_time": "2022-07-17T01:33:10.463718Z",
     "start_time": "2022-07-17T01:33:10.455761Z"
    }
   },
   "outputs": [
    {
     "data": {
      "text/html": [
       "<div>\n",
       "<style scoped>\n",
       "    .dataframe tbody tr th:only-of-type {\n",
       "        vertical-align: middle;\n",
       "    }\n",
       "\n",
       "    .dataframe tbody tr th {\n",
       "        vertical-align: top;\n",
       "    }\n",
       "\n",
       "    .dataframe thead th {\n",
       "        text-align: right;\n",
       "    }\n",
       "</style>\n",
       "<table border=\"1\" class=\"dataframe\">\n",
       "  <thead>\n",
       "    <tr style=\"text-align: right;\">\n",
       "      <th></th>\n",
       "      <th>Bici</th>\n",
       "      <th>Fecha_Arribo</th>\n",
       "      <th>Fecha_Retiro</th>\n",
       "      <th>finde</th>\n",
       "      <th>dia</th>\n",
       "    </tr>\n",
       "  </thead>\n",
       "  <tbody>\n",
       "    <tr>\n",
       "      <th>0</th>\n",
       "      <td>10060</td>\n",
       "      <td>2018-05-01 00:03:42</td>\n",
       "      <td>2018-05-01 00:00:52</td>\n",
       "      <td>0</td>\n",
       "      <td>L</td>\n",
       "    </tr>\n",
       "    <tr>\n",
       "      <th>1</th>\n",
       "      <td>10292</td>\n",
       "      <td>2018-05-01 00:42:52</td>\n",
       "      <td>2018-05-01 00:00:53</td>\n",
       "      <td>0</td>\n",
       "      <td>L</td>\n",
       "    </tr>\n",
       "    <tr>\n",
       "      <th>2</th>\n",
       "      <td>3488</td>\n",
       "      <td>2018-05-01 00:10:10</td>\n",
       "      <td>2018-05-01 00:00:54</td>\n",
       "      <td>0</td>\n",
       "      <td>L</td>\n",
       "    </tr>\n",
       "    <tr>\n",
       "      <th>3</th>\n",
       "      <td>2978</td>\n",
       "      <td>2018-05-01 00:04:10</td>\n",
       "      <td>2018-05-01 00:01:05</td>\n",
       "      <td>0</td>\n",
       "      <td>L</td>\n",
       "    </tr>\n",
       "    <tr>\n",
       "      <th>4</th>\n",
       "      <td>10256</td>\n",
       "      <td>2018-05-01 00:10:07</td>\n",
       "      <td>2018-05-01 00:01:06</td>\n",
       "      <td>0</td>\n",
       "      <td>L</td>\n",
       "    </tr>\n",
       "  </tbody>\n",
       "</table>\n",
       "</div>"
      ],
      "text/plain": [
       "    Bici        Fecha_Arribo        Fecha_Retiro  finde dia\n",
       "0  10060 2018-05-01 00:03:42 2018-05-01 00:00:52      0   L\n",
       "1  10292 2018-05-01 00:42:52 2018-05-01 00:00:53      0   L\n",
       "2   3488 2018-05-01 00:10:10 2018-05-01 00:00:54      0   L\n",
       "3   2978 2018-05-01 00:04:10 2018-05-01 00:01:05      0   L\n",
       "4  10256 2018-05-01 00:10:07 2018-05-01 00:01:06      0   L"
      ]
     },
     "execution_count": 11,
     "metadata": {},
     "output_type": "execute_result"
    }
   ],
   "source": [
    "df.head()"
   ]
  },
  {
   "cell_type": "code",
   "execution_count": 12,
   "id": "34212d5a",
   "metadata": {
    "ExecuteTime": {
     "end_time": "2022-07-17T01:33:53.453707Z",
     "start_time": "2022-07-17T01:33:10.465100Z"
    }
   },
   "outputs": [],
   "source": [
    "df['AñoMes'] = df['Fecha_Arribo'].map(lambda x:x.strftime('%Y%m'))"
   ]
  },
  {
   "cell_type": "code",
   "execution_count": 13,
   "id": "506476e8",
   "metadata": {
    "ExecuteTime": {
     "end_time": "2022-07-17T01:33:53.998186Z",
     "start_time": "2022-07-17T01:33:53.456572Z"
    }
   },
   "outputs": [
    {
     "data": {
      "text/plain": [
       "array(['201801', '201802', '201803', '201804', '201805', '201806',\n",
       "       '201807', '201808', '201809', '201810', '201811', '201812'],\n",
       "      dtype=object)"
      ]
     },
     "execution_count": 13,
     "metadata": {},
     "output_type": "execute_result"
    }
   ],
   "source": [
    "np.sort(df['AñoMes'].unique())"
   ]
  },
  {
   "cell_type": "markdown",
   "id": "cb4ad437",
   "metadata": {},
   "source": [
    "La ventana de Observación será de 4 meses y la ventana de desempeño de 1 mes"
   ]
  },
  {
   "cell_type": "code",
   "execution_count": 14,
   "id": "d2b1e926",
   "metadata": {
    "ExecuteTime": {
     "end_time": "2022-07-17T01:33:54.003840Z",
     "start_time": "2022-07-17T01:33:54.000485Z"
    }
   },
   "outputs": [],
   "source": [
    "vobs, vdes = 4, 1"
   ]
  },
  {
   "cell_type": "code",
   "execution_count": 15,
   "id": "5d7a6ba6",
   "metadata": {
    "ExecuteTime": {
     "end_time": "2022-07-17T01:33:54.015134Z",
     "start_time": "2022-07-17T01:33:54.006345Z"
    },
    "code_folding": [
     0
    ]
   },
   "outputs": [],
   "source": [
    "def diasSinUsar(df:pd.DataFrame,ancla:str)->pd.DataFrame:\n",
    "    ancla = date(int(ancla[:4]),int(ancla[4:]),1) # convertimos el ancla en tipo fecha, año,mes y 1 es el día \n",
    "    anclas = [(ancla+rd(months=-i)).strftime('%Y%m') for i in range(vobs)]#Sacamos las anclas de ancla-0meses, ancla-1mes,ancla-2meses, ancla-3meses\n",
    "    aux = df.loc[df['AñoMes'].isin(anclas)].copy().reset_index(drop=True) #ventana de observación de 4 meses \n",
    "    aux['dia'] = pd.to_datetime(aux['Fecha_Retiro']).dt.date #EXtraigo Año mes y día solamente y lo agrego como columan a aux \n",
    "    aux = aux.pivot_table(index='Bici',columns='dia',values='AñoMes',aggfunc='count',fill_value=0) #cuántas veces se usó la bici en un mes, es necesario fill_value pues quedan missings\n",
    "    aux = aux.apply(lambda x:x==0).astype(int) #Si se usó la bici se pone un 1 si no un 0 \n",
    "    aux['x_num_dias_sin_uso_ult_4m'] = aux.sum(axis=1) # las que no se usaron en los últimos 4 meses, hacemos una suma horizontal\n",
    "    return aux.filter(like='x_').reset_index().assign(ancla=ancla)"
   ]
  },
  {
   "cell_type": "code",
   "execution_count": 16,
   "id": "cd264836",
   "metadata": {
    "ExecuteTime": {
     "end_time": "2022-07-17T01:33:54.024343Z",
     "start_time": "2022-07-17T01:33:54.017719Z"
    },
    "code_folding": [
     0
    ]
   },
   "outputs": [],
   "source": [
    "def numViajes(df:pd.DataFrame,ancla:str)->pd.DataFrame:\n",
    "    ancla = date(int(ancla[:4]),int(ancla[4:]),1) # convertimos el ancla en tipo fecha, año,mes y 1 es el día \n",
    "    anclas = [(ancla+rd(months=-i)).strftime('%Y%m') for i in range(vobs)]#Sacamos las anclas de ancla-0meses, ancla-1mes,ancla-2meses, ancla-3meses\n",
    "    aux = df.loc[df['AñoMes'].isin(anclas)].copy().reset_index(drop=True) #ventana de observación de 4 meses \n",
    "    aux = aux.groupby(['Bici']).count()[['AñoMes']] \n",
    "    aux['x_num_viajes_ult_4m'] = aux[['AñoMes']] \n",
    "    return aux.filter(like='x_').reset_index().assign(ancla=ancla)"
   ]
  },
  {
   "cell_type": "code",
   "execution_count": 17,
   "id": "1b96bf6a",
   "metadata": {
    "ExecuteTime": {
     "end_time": "2022-07-17T01:33:54.031207Z",
     "start_time": "2022-07-17T01:33:54.026164Z"
    },
    "code_folding": [
     0
    ]
   },
   "outputs": [],
   "source": [
    "def promTiempoUso(df:pd.DataFrame,ancla:str)->pd.DataFrame:\n",
    "    ancla = date(int(ancla[:4]),int(ancla[4:]),1)\n",
    "    anclas = [(ancla+rd(months=-i)).strftime('%Y%m') for i in range(vobs)]\n",
    "    aux = df.loc[df['AñoMes'].isin(anclas)].copy().reset_index(drop=True)\n",
    "    aux['duracion'] = (aux['Fecha_Arribo']-aux['Fecha_Retiro'])/np.timedelta64(1,'m')\n",
    "    aux = aux.groupby(['Bici']).mean()[['duracion']]\n",
    "    aux.columns = ['x_duracion_prom_viaje_ult_4m']\n",
    "    return aux.filter(like='x_').reset_index().assign(ancla=ancla)"
   ]
  },
  {
   "cell_type": "code",
   "execution_count": 18,
   "id": "31aee1d5",
   "metadata": {
    "ExecuteTime": {
     "end_time": "2022-07-17T01:33:54.041453Z",
     "start_time": "2022-07-17T01:33:54.033047Z"
    },
    "code_folding": [
     0
    ]
   },
   "outputs": [],
   "source": [
    "def vecesPromDia(df:pd.DataFrame,ancla:str)->pd.DataFrame:\n",
    "    ancla = date(int(ancla[:4]),int(ancla[4:]),1)\n",
    "    anclas = [(ancla+rd(months=-i)).strftime('%Y%m') for i in range(vobs)]\n",
    "    aux = df.loc[df['AñoMes'].isin(anclas)].copy().reset_index(drop=True)\n",
    "    aux['dia'] = pd.to_datetime(aux['Fecha_Arribo']).dt.date\n",
    "    aux = aux.pivot_table(index = ['Bici'], columns = ['dia'], values = ['AñoMes'], aggfunc = 'count')\n",
    "    aux['x_veces_uso_prom_dia_ult_4m'] = aux.mean(axis = 1)\n",
    "    return aux.filter(like = 'x_').reset_index().assign(ancla = ancla)    "
   ]
  },
  {
   "cell_type": "code",
   "execution_count": 19,
   "id": "eebde028",
   "metadata": {
    "ExecuteTime": {
     "end_time": "2022-07-17T01:33:54.049070Z",
     "start_time": "2022-07-17T01:33:54.043246Z"
    },
    "code_folding": [
     0
    ]
   },
   "outputs": [],
   "source": [
    "def vecesPromMes(df:pd.DataFrame,ancla:str)->pd.DataFrame:\n",
    "    ancla = date(int(ancla[:4]),int(ancla[4:]),1)\n",
    "    anclas = [(ancla+rd(months=-i)).strftime('%Y%m') for i in range(vobs)]\n",
    "    aux = df.loc[df['AñoMes'].isin(anclas)].copy().reset_index(drop=True)\n",
    "    aux = aux.pivot_table(index='Bici',columns='AñoMes',values='dia',aggfunc='count')\n",
    "    aux['x_veces_uso_prom_mes_ult_4m'] = aux.mean(axis=1)\n",
    "    return aux.filter(like='x_').reset_index().assign(ancla=ancla)"
   ]
  },
  {
   "cell_type": "code",
   "execution_count": 20,
   "id": "d7cc6811",
   "metadata": {
    "ExecuteTime": {
     "end_time": "2022-07-17T01:33:54.057613Z",
     "start_time": "2022-07-17T01:33:54.051029Z"
    },
    "code_folding": [
     0
    ]
   },
   "outputs": [],
   "source": [
    "def numViajesFin(df:pd.DataFrame,ancla:str)->pd.DataFrame:\n",
    "    ancla = date(int(ancla[:4]),int(ancla[4:]),1)\n",
    "    anclas = [(ancla+rd(months=-i)).strftime('%Y%m') for i in range(vobs)]\n",
    "    aux = df.loc[df['AñoMes'].isin(anclas)].copy().reset_index(drop=True)\n",
    "    aux = aux.pivot_table(index='Bici',columns='finde',values='dia',aggfunc='count')\n",
    "    aux.drop(0,axis=1,inplace=True) #fin de semana toma valores ya sea 1 o 0, tiramos el 0 pues estas son las veces que se usó entre semana y a nosotros nos interesan el número de veces que se ocupó los fines de semana\n",
    "    aux.columns=['x_num_viajes_fin_ult_4m']\n",
    "    return aux.filter(like='x_').reset_index().assign(ancla=ancla)"
   ]
  },
  {
   "cell_type": "code",
   "execution_count": 21,
   "id": "5e31e50d",
   "metadata": {
    "ExecuteTime": {
     "end_time": "2022-07-17T01:33:54.065187Z",
     "start_time": "2022-07-17T01:33:54.060074Z"
    },
    "code_folding": [
     0
    ]
   },
   "outputs": [],
   "source": [
    "def pctViajesFin(df:pd.DataFrame,ancla:str)->pd.DataFrame:\n",
    "    ancla = date(int(ancla[:4]),int(ancla[4:]),1)\n",
    "    anclas = [(ancla+rd(months=-i)).strftime('%Y%m') for i in range(vobs)]\n",
    "    aux = df.loc[df['AñoMes'].isin(anclas)].copy().reset_index(drop=True)\n",
    "    aux = aux.pivot_table(index='Bici',columns='finde',values='dia',aggfunc='count')\n",
    "    aux['t'] = aux.sum(axis=1)# suma paralela a las columnas \n",
    "    aux['x_pct_viajes_fin_ult_4m'] = aux[1]/aux['t']\n",
    "    return aux.filter(like='x_').reset_index().assign(ancla=ancla)"
   ]
  },
  {
   "cell_type": "code",
   "execution_count": 22,
   "id": "f60aaff5",
   "metadata": {
    "ExecuteTime": {
     "end_time": "2022-07-17T01:33:54.072220Z",
     "start_time": "2022-07-17T01:33:54.066816Z"
    },
    "code_folding": [
     0
    ]
   },
   "outputs": [],
   "source": [
    "def viajesXDiaSem(df:pd.DataFrame,ancla:str)->pd.DataFrame:\n",
    "    ancla = date(int(ancla[:4]),int(ancla[4:]),1)\n",
    "    anclas = [(ancla+rd(months=-i)).strftime('%Y%m') for i in range(vobs)]\n",
    "    aux = df.loc[df['AñoMes'].isin(anclas)].copy().reset_index(drop=True)\n",
    "    aux = aux.pivot_table(index='Bici',columns='dia',values='AñoMes',aggfunc='count')\n",
    "    aux.columns = [f'x_num_viajes_en_{c}_ult_4m' for c in aux.columns]\n",
    "    return aux.filter(like='x_').reset_index().assign(ancla=ancla)"
   ]
  },
  {
   "cell_type": "code",
   "execution_count": 23,
   "id": "46b2e00e",
   "metadata": {
    "ExecuteTime": {
     "end_time": "2022-07-17T01:33:57.557782Z",
     "start_time": "2022-07-17T01:33:57.554134Z"
    }
   },
   "outputs": [],
   "source": [
    "um = ['Bici','ancla']"
   ]
  },
  {
   "cell_type": "markdown",
   "id": "6d5b1f66",
   "metadata": {},
   "source": [
    "## Matriz de Predictoras $X$"
   ]
  },
  {
   "cell_type": "code",
   "execution_count": 24,
   "id": "adf68684",
   "metadata": {
    "ExecuteTime": {
     "end_time": "2022-07-17T01:33:58.313941Z",
     "start_time": "2022-07-17T01:33:58.306939Z"
    }
   },
   "outputs": [],
   "source": [
    "cruzar = lambda x,y:pd.merge(x,y,on=um,how='outer') \n",
    "apilar = lambda x,y:pd.concat([x,y],ignore_index=True)"
   ]
  },
  {
   "cell_type": "code",
   "execution_count": 25,
   "id": "8525318c",
   "metadata": {
    "ExecuteTime": {
     "end_time": "2022-07-17T01:33:59.329344Z",
     "start_time": "2022-07-17T01:33:59.325471Z"
    }
   },
   "outputs": [],
   "source": [
    "lista_funciones = [diasSinUsar, numViajes,promTiempoUso,vecesPromMes,numViajesFin,pctViajesFin,viajesXDiaSem]"
   ]
  },
  {
   "cell_type": "code",
   "execution_count": 26,
   "id": "eb2d57a2",
   "metadata": {
    "ExecuteTime": {
     "end_time": "2022-07-17T01:34:01.051282Z",
     "start_time": "2022-07-17T01:34:01.043962Z"
    }
   },
   "outputs": [
    {
     "data": {
      "text/plain": [
       "['201804',\n",
       " '201805',\n",
       " '201806',\n",
       " '201807',\n",
       " '201808',\n",
       " '201809',\n",
       " '201810',\n",
       " '201811']"
      ]
     },
     "execution_count": 26,
     "metadata": {},
     "output_type": "execute_result"
    }
   ],
   "source": [
    "fechai, fechaf = date(2018,4,1),date(2018,11,1)\n",
    "meses = rd(fechaf,fechai) # cuánto tiempo hay entre la fecha inicial y final \n",
    "meses = meses.months # el tiempo en meses \n",
    "anclas = [(fechai+rd(months=i)).strftime('%Y%m') for i in range(meses+1)]\n",
    "anclas"
   ]
  },
  {
   "cell_type": "code",
   "execution_count": 27,
   "id": "f443b0b7",
   "metadata": {
    "ExecuteTime": {
     "end_time": "2022-07-17T01:35:33.799968Z",
     "start_time": "2022-07-17T01:34:01.773720Z"
    }
   },
   "outputs": [],
   "source": [
    "X = reduce(apilar,map(lambda ancla:reduce(cruzar,[f(df,ancla) for f in lista_funciones]),anclas))"
   ]
  },
  {
   "cell_type": "code",
   "execution_count": 28,
   "id": "88d1b1df",
   "metadata": {
    "ExecuteTime": {
     "end_time": "2022-07-16T09:51:01.344853Z",
     "start_time": "2022-07-16T09:51:01.323186Z"
    }
   },
   "outputs": [
    {
     "data": {
      "text/html": [
       "<div>\n",
       "<style scoped>\n",
       "    .dataframe tbody tr th:only-of-type {\n",
       "        vertical-align: middle;\n",
       "    }\n",
       "\n",
       "    .dataframe tbody tr th {\n",
       "        vertical-align: top;\n",
       "    }\n",
       "\n",
       "    .dataframe thead th {\n",
       "        text-align: right;\n",
       "    }\n",
       "</style>\n",
       "<table border=\"1\" class=\"dataframe\">\n",
       "  <thead>\n",
       "    <tr style=\"text-align: right;\">\n",
       "      <th></th>\n",
       "      <th>Bici</th>\n",
       "      <th>x_num_dias_sin_uso_ult_4m</th>\n",
       "      <th>ancla</th>\n",
       "      <th>x_num_viajes_ult_4m</th>\n",
       "      <th>x_duracion_prom_viaje_ult_4m</th>\n",
       "      <th>x_veces_uso_prom_mes_ult_4m</th>\n",
       "      <th>x_num_viajes_fin_ult_4m</th>\n",
       "      <th>x_pct_viajes_fin_ult_4m</th>\n",
       "      <th>x_num_viajes_en_0_ult_4m</th>\n",
       "      <th>x_num_viajes_en_J_ult_4m</th>\n",
       "      <th>x_num_viajes_en_L_ult_4m</th>\n",
       "      <th>x_num_viajes_en_M_ult_4m</th>\n",
       "      <th>x_num_viajes_en_S_ult_4m</th>\n",
       "      <th>x_num_viajes_en_V_ult_4m</th>\n",
       "      <th>x_num_viajes_en_X_ult_4m</th>\n",
       "    </tr>\n",
       "  </thead>\n",
       "  <tbody>\n",
       "    <tr>\n",
       "      <th>0</th>\n",
       "      <td>306</td>\n",
       "      <td>81</td>\n",
       "      <td>2018-04-01</td>\n",
       "      <td>304</td>\n",
       "      <td>12.811623</td>\n",
       "      <td>101.333333</td>\n",
       "      <td>13.0</td>\n",
       "      <td>0.042763</td>\n",
       "      <td>45.0</td>\n",
       "      <td>48.0</td>\n",
       "      <td>60.0</td>\n",
       "      <td>56.0</td>\n",
       "      <td>13.0</td>\n",
       "      <td>25.0</td>\n",
       "      <td>57.0</td>\n",
       "    </tr>\n",
       "    <tr>\n",
       "      <th>1</th>\n",
       "      <td>349</td>\n",
       "      <td>103</td>\n",
       "      <td>2018-04-01</td>\n",
       "      <td>148</td>\n",
       "      <td>12.778829</td>\n",
       "      <td>74.000000</td>\n",
       "      <td>7.0</td>\n",
       "      <td>0.047297</td>\n",
       "      <td>19.0</td>\n",
       "      <td>20.0</td>\n",
       "      <td>45.0</td>\n",
       "      <td>29.0</td>\n",
       "      <td>7.0</td>\n",
       "      <td>6.0</td>\n",
       "      <td>22.0</td>\n",
       "    </tr>\n",
       "    <tr>\n",
       "      <th>2</th>\n",
       "      <td>520</td>\n",
       "      <td>94</td>\n",
       "      <td>2018-04-01</td>\n",
       "      <td>209</td>\n",
       "      <td>13.789633</td>\n",
       "      <td>69.666667</td>\n",
       "      <td>12.0</td>\n",
       "      <td>0.057416</td>\n",
       "      <td>41.0</td>\n",
       "      <td>26.0</td>\n",
       "      <td>37.0</td>\n",
       "      <td>41.0</td>\n",
       "      <td>12.0</td>\n",
       "      <td>20.0</td>\n",
       "      <td>32.0</td>\n",
       "    </tr>\n",
       "    <tr>\n",
       "      <th>3</th>\n",
       "      <td>678</td>\n",
       "      <td>119</td>\n",
       "      <td>2018-04-01</td>\n",
       "      <td>52</td>\n",
       "      <td>13.075000</td>\n",
       "      <td>52.000000</td>\n",
       "      <td>NaN</td>\n",
       "      <td>NaN</td>\n",
       "      <td>8.0</td>\n",
       "      <td>4.0</td>\n",
       "      <td>11.0</td>\n",
       "      <td>19.0</td>\n",
       "      <td>NaN</td>\n",
       "      <td>2.0</td>\n",
       "      <td>8.0</td>\n",
       "    </tr>\n",
       "    <tr>\n",
       "      <th>4</th>\n",
       "      <td>815</td>\n",
       "      <td>96</td>\n",
       "      <td>2018-04-01</td>\n",
       "      <td>179</td>\n",
       "      <td>12.780074</td>\n",
       "      <td>59.666667</td>\n",
       "      <td>11.0</td>\n",
       "      <td>0.061453</td>\n",
       "      <td>28.0</td>\n",
       "      <td>29.0</td>\n",
       "      <td>26.0</td>\n",
       "      <td>31.0</td>\n",
       "      <td>11.0</td>\n",
       "      <td>18.0</td>\n",
       "      <td>36.0</td>\n",
       "    </tr>\n",
       "    <tr>\n",
       "      <th>...</th>\n",
       "      <td>...</td>\n",
       "      <td>...</td>\n",
       "      <td>...</td>\n",
       "      <td>...</td>\n",
       "      <td>...</td>\n",
       "      <td>...</td>\n",
       "      <td>...</td>\n",
       "      <td>...</td>\n",
       "      <td>...</td>\n",
       "      <td>...</td>\n",
       "      <td>...</td>\n",
       "      <td>...</td>\n",
       "      <td>...</td>\n",
       "      <td>...</td>\n",
       "      <td>...</td>\n",
       "    </tr>\n",
       "    <tr>\n",
       "      <th>71967</th>\n",
       "      <td>9994</td>\n",
       "      <td>134</td>\n",
       "      <td>2018-11-01</td>\n",
       "      <td>14</td>\n",
       "      <td>13.519048</td>\n",
       "      <td>14.000000</td>\n",
       "      <td>NaN</td>\n",
       "      <td>NaN</td>\n",
       "      <td>NaN</td>\n",
       "      <td>4.0</td>\n",
       "      <td>NaN</td>\n",
       "      <td>4.0</td>\n",
       "      <td>NaN</td>\n",
       "      <td>NaN</td>\n",
       "      <td>6.0</td>\n",
       "    </tr>\n",
       "    <tr>\n",
       "      <th>71968</th>\n",
       "      <td>9995</td>\n",
       "      <td>134</td>\n",
       "      <td>2018-11-01</td>\n",
       "      <td>17</td>\n",
       "      <td>12.038235</td>\n",
       "      <td>17.000000</td>\n",
       "      <td>NaN</td>\n",
       "      <td>NaN</td>\n",
       "      <td>NaN</td>\n",
       "      <td>6.0</td>\n",
       "      <td>NaN</td>\n",
       "      <td>6.0</td>\n",
       "      <td>NaN</td>\n",
       "      <td>NaN</td>\n",
       "      <td>5.0</td>\n",
       "    </tr>\n",
       "    <tr>\n",
       "      <th>71969</th>\n",
       "      <td>9998</td>\n",
       "      <td>134</td>\n",
       "      <td>2018-11-01</td>\n",
       "      <td>10</td>\n",
       "      <td>13.063333</td>\n",
       "      <td>10.000000</td>\n",
       "      <td>NaN</td>\n",
       "      <td>NaN</td>\n",
       "      <td>NaN</td>\n",
       "      <td>7.0</td>\n",
       "      <td>1.0</td>\n",
       "      <td>2.0</td>\n",
       "      <td>NaN</td>\n",
       "      <td>NaN</td>\n",
       "      <td>NaN</td>\n",
       "    </tr>\n",
       "    <tr>\n",
       "      <th>71970</th>\n",
       "      <td>9999</td>\n",
       "      <td>134</td>\n",
       "      <td>2018-11-01</td>\n",
       "      <td>22</td>\n",
       "      <td>11.484091</td>\n",
       "      <td>22.000000</td>\n",
       "      <td>NaN</td>\n",
       "      <td>NaN</td>\n",
       "      <td>NaN</td>\n",
       "      <td>7.0</td>\n",
       "      <td>NaN</td>\n",
       "      <td>8.0</td>\n",
       "      <td>NaN</td>\n",
       "      <td>NaN</td>\n",
       "      <td>7.0</td>\n",
       "    </tr>\n",
       "    <tr>\n",
       "      <th>71971</th>\n",
       "      <td>C037</td>\n",
       "      <td>134</td>\n",
       "      <td>2018-11-01</td>\n",
       "      <td>14</td>\n",
       "      <td>15.655952</td>\n",
       "      <td>14.000000</td>\n",
       "      <td>NaN</td>\n",
       "      <td>NaN</td>\n",
       "      <td>NaN</td>\n",
       "      <td>6.0</td>\n",
       "      <td>NaN</td>\n",
       "      <td>3.0</td>\n",
       "      <td>NaN</td>\n",
       "      <td>NaN</td>\n",
       "      <td>5.0</td>\n",
       "    </tr>\n",
       "  </tbody>\n",
       "</table>\n",
       "<p>71972 rows × 15 columns</p>\n",
       "</div>"
      ],
      "text/plain": [
       "       Bici  x_num_dias_sin_uso_ult_4m       ancla  x_num_viajes_ult_4m  \\\n",
       "0       306                         81  2018-04-01                  304   \n",
       "1       349                        103  2018-04-01                  148   \n",
       "2       520                         94  2018-04-01                  209   \n",
       "3       678                        119  2018-04-01                   52   \n",
       "4       815                         96  2018-04-01                  179   \n",
       "...     ...                        ...         ...                  ...   \n",
       "71967  9994                        134  2018-11-01                   14   \n",
       "71968  9995                        134  2018-11-01                   17   \n",
       "71969  9998                        134  2018-11-01                   10   \n",
       "71970  9999                        134  2018-11-01                   22   \n",
       "71971  C037                        134  2018-11-01                   14   \n",
       "\n",
       "       x_duracion_prom_viaje_ult_4m  x_veces_uso_prom_mes_ult_4m  \\\n",
       "0                         12.811623                   101.333333   \n",
       "1                         12.778829                    74.000000   \n",
       "2                         13.789633                    69.666667   \n",
       "3                         13.075000                    52.000000   \n",
       "4                         12.780074                    59.666667   \n",
       "...                             ...                          ...   \n",
       "71967                     13.519048                    14.000000   \n",
       "71968                     12.038235                    17.000000   \n",
       "71969                     13.063333                    10.000000   \n",
       "71970                     11.484091                    22.000000   \n",
       "71971                     15.655952                    14.000000   \n",
       "\n",
       "       x_num_viajes_fin_ult_4m  x_pct_viajes_fin_ult_4m  \\\n",
       "0                         13.0                 0.042763   \n",
       "1                          7.0                 0.047297   \n",
       "2                         12.0                 0.057416   \n",
       "3                          NaN                      NaN   \n",
       "4                         11.0                 0.061453   \n",
       "...                        ...                      ...   \n",
       "71967                      NaN                      NaN   \n",
       "71968                      NaN                      NaN   \n",
       "71969                      NaN                      NaN   \n",
       "71970                      NaN                      NaN   \n",
       "71971                      NaN                      NaN   \n",
       "\n",
       "       x_num_viajes_en_0_ult_4m  x_num_viajes_en_J_ult_4m  \\\n",
       "0                          45.0                      48.0   \n",
       "1                          19.0                      20.0   \n",
       "2                          41.0                      26.0   \n",
       "3                           8.0                       4.0   \n",
       "4                          28.0                      29.0   \n",
       "...                         ...                       ...   \n",
       "71967                       NaN                       4.0   \n",
       "71968                       NaN                       6.0   \n",
       "71969                       NaN                       7.0   \n",
       "71970                       NaN                       7.0   \n",
       "71971                       NaN                       6.0   \n",
       "\n",
       "       x_num_viajes_en_L_ult_4m  x_num_viajes_en_M_ult_4m  \\\n",
       "0                          60.0                      56.0   \n",
       "1                          45.0                      29.0   \n",
       "2                          37.0                      41.0   \n",
       "3                          11.0                      19.0   \n",
       "4                          26.0                      31.0   \n",
       "...                         ...                       ...   \n",
       "71967                       NaN                       4.0   \n",
       "71968                       NaN                       6.0   \n",
       "71969                       1.0                       2.0   \n",
       "71970                       NaN                       8.0   \n",
       "71971                       NaN                       3.0   \n",
       "\n",
       "       x_num_viajes_en_S_ult_4m  x_num_viajes_en_V_ult_4m  \\\n",
       "0                          13.0                      25.0   \n",
       "1                           7.0                       6.0   \n",
       "2                          12.0                      20.0   \n",
       "3                           NaN                       2.0   \n",
       "4                          11.0                      18.0   \n",
       "...                         ...                       ...   \n",
       "71967                       NaN                       NaN   \n",
       "71968                       NaN                       NaN   \n",
       "71969                       NaN                       NaN   \n",
       "71970                       NaN                       NaN   \n",
       "71971                       NaN                       NaN   \n",
       "\n",
       "       x_num_viajes_en_X_ult_4m  \n",
       "0                          57.0  \n",
       "1                          22.0  \n",
       "2                          32.0  \n",
       "3                           8.0  \n",
       "4                          36.0  \n",
       "...                         ...  \n",
       "71967                       6.0  \n",
       "71968                       5.0  \n",
       "71969                       NaN  \n",
       "71970                       7.0  \n",
       "71971                       5.0  \n",
       "\n",
       "[71972 rows x 15 columns]"
      ]
     },
     "execution_count": 28,
     "metadata": {},
     "output_type": "execute_result"
    }
   ],
   "source": [
    "X"
   ]
  },
  {
   "cell_type": "code",
   "execution_count": 29,
   "id": "ea42ef57",
   "metadata": {
    "ExecuteTime": {
     "end_time": "2022-07-16T09:51:01.490676Z",
     "start_time": "2022-07-16T09:51:01.347186Z"
    }
   },
   "outputs": [],
   "source": [
    "X['ancla'] = X['ancla'].map(lambda x:x.strftime('%Y%m')) "
   ]
  },
  {
   "cell_type": "code",
   "execution_count": 30,
   "id": "2c81c907",
   "metadata": {
    "ExecuteTime": {
     "end_time": "2022-07-16T09:51:01.508290Z",
     "start_time": "2022-07-16T09:51:01.491794Z"
    }
   },
   "outputs": [
    {
     "data": {
      "text/html": [
       "<div>\n",
       "<style scoped>\n",
       "    .dataframe tbody tr th:only-of-type {\n",
       "        vertical-align: middle;\n",
       "    }\n",
       "\n",
       "    .dataframe tbody tr th {\n",
       "        vertical-align: top;\n",
       "    }\n",
       "\n",
       "    .dataframe thead th {\n",
       "        text-align: right;\n",
       "    }\n",
       "</style>\n",
       "<table border=\"1\" class=\"dataframe\">\n",
       "  <thead>\n",
       "    <tr style=\"text-align: right;\">\n",
       "      <th></th>\n",
       "      <th>Bici</th>\n",
       "      <th>x_num_dias_sin_uso_ult_4m</th>\n",
       "      <th>ancla</th>\n",
       "      <th>x_num_viajes_ult_4m</th>\n",
       "      <th>x_duracion_prom_viaje_ult_4m</th>\n",
       "      <th>x_veces_uso_prom_mes_ult_4m</th>\n",
       "      <th>x_num_viajes_fin_ult_4m</th>\n",
       "      <th>x_pct_viajes_fin_ult_4m</th>\n",
       "      <th>x_num_viajes_en_0_ult_4m</th>\n",
       "      <th>x_num_viajes_en_J_ult_4m</th>\n",
       "      <th>x_num_viajes_en_L_ult_4m</th>\n",
       "      <th>x_num_viajes_en_M_ult_4m</th>\n",
       "      <th>x_num_viajes_en_S_ult_4m</th>\n",
       "      <th>x_num_viajes_en_V_ult_4m</th>\n",
       "      <th>x_num_viajes_en_X_ult_4m</th>\n",
       "    </tr>\n",
       "  </thead>\n",
       "  <tbody>\n",
       "    <tr>\n",
       "      <th>0</th>\n",
       "      <td>306</td>\n",
       "      <td>81</td>\n",
       "      <td>201804</td>\n",
       "      <td>304</td>\n",
       "      <td>12.811623</td>\n",
       "      <td>101.333333</td>\n",
       "      <td>13.0</td>\n",
       "      <td>0.042763</td>\n",
       "      <td>45.0</td>\n",
       "      <td>48.0</td>\n",
       "      <td>60.0</td>\n",
       "      <td>56.0</td>\n",
       "      <td>13.0</td>\n",
       "      <td>25.0</td>\n",
       "      <td>57.0</td>\n",
       "    </tr>\n",
       "    <tr>\n",
       "      <th>1</th>\n",
       "      <td>349</td>\n",
       "      <td>103</td>\n",
       "      <td>201804</td>\n",
       "      <td>148</td>\n",
       "      <td>12.778829</td>\n",
       "      <td>74.000000</td>\n",
       "      <td>7.0</td>\n",
       "      <td>0.047297</td>\n",
       "      <td>19.0</td>\n",
       "      <td>20.0</td>\n",
       "      <td>45.0</td>\n",
       "      <td>29.0</td>\n",
       "      <td>7.0</td>\n",
       "      <td>6.0</td>\n",
       "      <td>22.0</td>\n",
       "    </tr>\n",
       "    <tr>\n",
       "      <th>2</th>\n",
       "      <td>520</td>\n",
       "      <td>94</td>\n",
       "      <td>201804</td>\n",
       "      <td>209</td>\n",
       "      <td>13.789633</td>\n",
       "      <td>69.666667</td>\n",
       "      <td>12.0</td>\n",
       "      <td>0.057416</td>\n",
       "      <td>41.0</td>\n",
       "      <td>26.0</td>\n",
       "      <td>37.0</td>\n",
       "      <td>41.0</td>\n",
       "      <td>12.0</td>\n",
       "      <td>20.0</td>\n",
       "      <td>32.0</td>\n",
       "    </tr>\n",
       "    <tr>\n",
       "      <th>3</th>\n",
       "      <td>678</td>\n",
       "      <td>119</td>\n",
       "      <td>201804</td>\n",
       "      <td>52</td>\n",
       "      <td>13.075000</td>\n",
       "      <td>52.000000</td>\n",
       "      <td>NaN</td>\n",
       "      <td>NaN</td>\n",
       "      <td>8.0</td>\n",
       "      <td>4.0</td>\n",
       "      <td>11.0</td>\n",
       "      <td>19.0</td>\n",
       "      <td>NaN</td>\n",
       "      <td>2.0</td>\n",
       "      <td>8.0</td>\n",
       "    </tr>\n",
       "    <tr>\n",
       "      <th>4</th>\n",
       "      <td>815</td>\n",
       "      <td>96</td>\n",
       "      <td>201804</td>\n",
       "      <td>179</td>\n",
       "      <td>12.780074</td>\n",
       "      <td>59.666667</td>\n",
       "      <td>11.0</td>\n",
       "      <td>0.061453</td>\n",
       "      <td>28.0</td>\n",
       "      <td>29.0</td>\n",
       "      <td>26.0</td>\n",
       "      <td>31.0</td>\n",
       "      <td>11.0</td>\n",
       "      <td>18.0</td>\n",
       "      <td>36.0</td>\n",
       "    </tr>\n",
       "  </tbody>\n",
       "</table>\n",
       "</div>"
      ],
      "text/plain": [
       "  Bici  x_num_dias_sin_uso_ult_4m   ancla  x_num_viajes_ult_4m  \\\n",
       "0  306                         81  201804                  304   \n",
       "1  349                        103  201804                  148   \n",
       "2  520                         94  201804                  209   \n",
       "3  678                        119  201804                   52   \n",
       "4  815                         96  201804                  179   \n",
       "\n",
       "   x_duracion_prom_viaje_ult_4m  x_veces_uso_prom_mes_ult_4m  \\\n",
       "0                     12.811623                   101.333333   \n",
       "1                     12.778829                    74.000000   \n",
       "2                     13.789633                    69.666667   \n",
       "3                     13.075000                    52.000000   \n",
       "4                     12.780074                    59.666667   \n",
       "\n",
       "   x_num_viajes_fin_ult_4m  x_pct_viajes_fin_ult_4m  x_num_viajes_en_0_ult_4m  \\\n",
       "0                     13.0                 0.042763                      45.0   \n",
       "1                      7.0                 0.047297                      19.0   \n",
       "2                     12.0                 0.057416                      41.0   \n",
       "3                      NaN                      NaN                       8.0   \n",
       "4                     11.0                 0.061453                      28.0   \n",
       "\n",
       "   x_num_viajes_en_J_ult_4m  x_num_viajes_en_L_ult_4m  \\\n",
       "0                      48.0                      60.0   \n",
       "1                      20.0                      45.0   \n",
       "2                      26.0                      37.0   \n",
       "3                       4.0                      11.0   \n",
       "4                      29.0                      26.0   \n",
       "\n",
       "   x_num_viajes_en_M_ult_4m  x_num_viajes_en_S_ult_4m  \\\n",
       "0                      56.0                      13.0   \n",
       "1                      29.0                       7.0   \n",
       "2                      41.0                      12.0   \n",
       "3                      19.0                       NaN   \n",
       "4                      31.0                      11.0   \n",
       "\n",
       "   x_num_viajes_en_V_ult_4m  x_num_viajes_en_X_ult_4m  \n",
       "0                      25.0                      57.0  \n",
       "1                       6.0                      22.0  \n",
       "2                      20.0                      32.0  \n",
       "3                       2.0                       8.0  \n",
       "4                      18.0                      36.0  "
      ]
     },
     "execution_count": 30,
     "metadata": {},
     "output_type": "execute_result"
    }
   ],
   "source": [
    "X.head()"
   ]
  },
  {
   "cell_type": "markdown",
   "id": "8d863ac1",
   "metadata": {},
   "source": [
    "## Variable objetivo $\\vec{y}$"
   ]
  },
  {
   "cell_type": "code",
   "execution_count": 31,
   "id": "ae30a2d0",
   "metadata": {
    "ExecuteTime": {
     "end_time": "2022-07-16T09:51:01.516201Z",
     "start_time": "2022-07-16T09:51:01.510335Z"
    }
   },
   "outputs": [],
   "source": [
    "def ing_y(df:pd.DataFrame,ancla:int)->pd.DataFrame:\n",
    "    anclaf = (date(int(ancla[:4]),int(ancla[4:]),1)+rd(months=vdes)).strftime('%Y%m')\n",
    "    aux = df.loc[df['AñoMes']==anclaf].copy().reset_index(drop=True)\n",
    "    aux = aux[['Bici']].drop_duplicates().reset_index(drop=True).assign(desaparece=0) # sólo a las bicicletas que aparecen aquí significa que no desaparecieron  \n",
    "    return aux.assign(ancla=ancla)"
   ]
  },
  {
   "cell_type": "code",
   "execution_count": 32,
   "id": "ab5948e2",
   "metadata": {
    "ExecuteTime": {
     "end_time": "2022-07-16T09:51:13.493059Z",
     "start_time": "2022-07-16T09:51:01.518784Z"
    }
   },
   "outputs": [],
   "source": [
    "y = reduce(apilar,map(lambda ancla:ing_y(df,ancla),anclas))"
   ]
  },
  {
   "cell_type": "code",
   "execution_count": 33,
   "id": "0b36d09d",
   "metadata": {
    "ExecuteTime": {
     "end_time": "2022-07-16T09:51:13.503204Z",
     "start_time": "2022-07-16T09:51:13.494173Z"
    }
   },
   "outputs": [
    {
     "data": {
      "text/html": [
       "<div>\n",
       "<style scoped>\n",
       "    .dataframe tbody tr th:only-of-type {\n",
       "        vertical-align: middle;\n",
       "    }\n",
       "\n",
       "    .dataframe tbody tr th {\n",
       "        vertical-align: top;\n",
       "    }\n",
       "\n",
       "    .dataframe thead th {\n",
       "        text-align: right;\n",
       "    }\n",
       "</style>\n",
       "<table border=\"1\" class=\"dataframe\">\n",
       "  <thead>\n",
       "    <tr style=\"text-align: right;\">\n",
       "      <th></th>\n",
       "      <th>Bici</th>\n",
       "      <th>desaparece</th>\n",
       "      <th>ancla</th>\n",
       "    </tr>\n",
       "  </thead>\n",
       "  <tbody>\n",
       "    <tr>\n",
       "      <th>0</th>\n",
       "      <td>10060</td>\n",
       "      <td>0</td>\n",
       "      <td>201804</td>\n",
       "    </tr>\n",
       "    <tr>\n",
       "      <th>1</th>\n",
       "      <td>10292</td>\n",
       "      <td>0</td>\n",
       "      <td>201804</td>\n",
       "    </tr>\n",
       "    <tr>\n",
       "      <th>2</th>\n",
       "      <td>3488</td>\n",
       "      <td>0</td>\n",
       "      <td>201804</td>\n",
       "    </tr>\n",
       "    <tr>\n",
       "      <th>3</th>\n",
       "      <td>2978</td>\n",
       "      <td>0</td>\n",
       "      <td>201804</td>\n",
       "    </tr>\n",
       "    <tr>\n",
       "      <th>4</th>\n",
       "      <td>10256</td>\n",
       "      <td>0</td>\n",
       "      <td>201804</td>\n",
       "    </tr>\n",
       "    <tr>\n",
       "      <th>...</th>\n",
       "      <td>...</td>\n",
       "      <td>...</td>\n",
       "      <td>...</td>\n",
       "    </tr>\n",
       "    <tr>\n",
       "      <th>46601</th>\n",
       "      <td>15089</td>\n",
       "      <td>0</td>\n",
       "      <td>201811</td>\n",
       "    </tr>\n",
       "    <tr>\n",
       "      <th>46602</th>\n",
       "      <td>15087</td>\n",
       "      <td>0</td>\n",
       "      <td>201811</td>\n",
       "    </tr>\n",
       "    <tr>\n",
       "      <th>46603</th>\n",
       "      <td>15059</td>\n",
       "      <td>0</td>\n",
       "      <td>201811</td>\n",
       "    </tr>\n",
       "    <tr>\n",
       "      <th>46604</th>\n",
       "      <td>15243</td>\n",
       "      <td>0</td>\n",
       "      <td>201811</td>\n",
       "    </tr>\n",
       "    <tr>\n",
       "      <th>46605</th>\n",
       "      <td>15311</td>\n",
       "      <td>0</td>\n",
       "      <td>201811</td>\n",
       "    </tr>\n",
       "  </tbody>\n",
       "</table>\n",
       "<p>46606 rows × 3 columns</p>\n",
       "</div>"
      ],
      "text/plain": [
       "        Bici  desaparece   ancla\n",
       "0      10060           0  201804\n",
       "1      10292           0  201804\n",
       "2       3488           0  201804\n",
       "3       2978           0  201804\n",
       "4      10256           0  201804\n",
       "...      ...         ...     ...\n",
       "46601  15089           0  201811\n",
       "46602  15087           0  201811\n",
       "46603  15059           0  201811\n",
       "46604  15243           0  201811\n",
       "46605  15311           0  201811\n",
       "\n",
       "[46606 rows x 3 columns]"
      ]
     },
     "execution_count": 33,
     "metadata": {},
     "output_type": "execute_result"
    }
   ],
   "source": [
    "y"
   ]
  },
  {
   "cell_type": "markdown",
   "id": "cc61b13a",
   "metadata": {},
   "source": [
    "## Crear conjunto de entrenamiento $S_n = \\{(x^{(i)},y^{(i)}),i=1,\\ldots,n\\}$"
   ]
  },
  {
   "cell_type": "code",
   "execution_count": 34,
   "id": "22195e20",
   "metadata": {
    "ExecuteTime": {
     "end_time": "2022-07-16T09:51:13.567294Z",
     "start_time": "2022-07-16T09:51:13.504775Z"
    }
   },
   "outputs": [],
   "source": [
    "Sn = X.merge(y,on=um,how='left')"
   ]
  },
  {
   "cell_type": "code",
   "execution_count": 35,
   "id": "d4d7c5ea",
   "metadata": {
    "ExecuteTime": {
     "end_time": "2022-07-16T09:51:13.590158Z",
     "start_time": "2022-07-16T09:51:13.568560Z"
    }
   },
   "outputs": [
    {
     "data": {
      "text/html": [
       "<div>\n",
       "<style scoped>\n",
       "    .dataframe tbody tr th:only-of-type {\n",
       "        vertical-align: middle;\n",
       "    }\n",
       "\n",
       "    .dataframe tbody tr th {\n",
       "        vertical-align: top;\n",
       "    }\n",
       "\n",
       "    .dataframe thead th {\n",
       "        text-align: right;\n",
       "    }\n",
       "</style>\n",
       "<table border=\"1\" class=\"dataframe\">\n",
       "  <thead>\n",
       "    <tr style=\"text-align: right;\">\n",
       "      <th></th>\n",
       "      <th>Bici</th>\n",
       "      <th>x_num_dias_sin_uso_ult_4m</th>\n",
       "      <th>ancla</th>\n",
       "      <th>x_num_viajes_ult_4m</th>\n",
       "      <th>x_duracion_prom_viaje_ult_4m</th>\n",
       "      <th>x_veces_uso_prom_mes_ult_4m</th>\n",
       "      <th>x_num_viajes_fin_ult_4m</th>\n",
       "      <th>x_pct_viajes_fin_ult_4m</th>\n",
       "      <th>x_num_viajes_en_0_ult_4m</th>\n",
       "      <th>x_num_viajes_en_J_ult_4m</th>\n",
       "      <th>x_num_viajes_en_L_ult_4m</th>\n",
       "      <th>x_num_viajes_en_M_ult_4m</th>\n",
       "      <th>x_num_viajes_en_S_ult_4m</th>\n",
       "      <th>x_num_viajes_en_V_ult_4m</th>\n",
       "      <th>x_num_viajes_en_X_ult_4m</th>\n",
       "      <th>desaparece</th>\n",
       "    </tr>\n",
       "  </thead>\n",
       "  <tbody>\n",
       "    <tr>\n",
       "      <th>0</th>\n",
       "      <td>306</td>\n",
       "      <td>81</td>\n",
       "      <td>201804</td>\n",
       "      <td>304</td>\n",
       "      <td>12.811623</td>\n",
       "      <td>101.333333</td>\n",
       "      <td>13.0</td>\n",
       "      <td>0.042763</td>\n",
       "      <td>45.0</td>\n",
       "      <td>48.0</td>\n",
       "      <td>60.0</td>\n",
       "      <td>56.0</td>\n",
       "      <td>13.0</td>\n",
       "      <td>25.0</td>\n",
       "      <td>57.0</td>\n",
       "      <td>NaN</td>\n",
       "    </tr>\n",
       "    <tr>\n",
       "      <th>1</th>\n",
       "      <td>349</td>\n",
       "      <td>103</td>\n",
       "      <td>201804</td>\n",
       "      <td>148</td>\n",
       "      <td>12.778829</td>\n",
       "      <td>74.000000</td>\n",
       "      <td>7.0</td>\n",
       "      <td>0.047297</td>\n",
       "      <td>19.0</td>\n",
       "      <td>20.0</td>\n",
       "      <td>45.0</td>\n",
       "      <td>29.0</td>\n",
       "      <td>7.0</td>\n",
       "      <td>6.0</td>\n",
       "      <td>22.0</td>\n",
       "      <td>0.0</td>\n",
       "    </tr>\n",
       "    <tr>\n",
       "      <th>2</th>\n",
       "      <td>520</td>\n",
       "      <td>94</td>\n",
       "      <td>201804</td>\n",
       "      <td>209</td>\n",
       "      <td>13.789633</td>\n",
       "      <td>69.666667</td>\n",
       "      <td>12.0</td>\n",
       "      <td>0.057416</td>\n",
       "      <td>41.0</td>\n",
       "      <td>26.0</td>\n",
       "      <td>37.0</td>\n",
       "      <td>41.0</td>\n",
       "      <td>12.0</td>\n",
       "      <td>20.0</td>\n",
       "      <td>32.0</td>\n",
       "      <td>NaN</td>\n",
       "    </tr>\n",
       "    <tr>\n",
       "      <th>3</th>\n",
       "      <td>678</td>\n",
       "      <td>119</td>\n",
       "      <td>201804</td>\n",
       "      <td>52</td>\n",
       "      <td>13.075000</td>\n",
       "      <td>52.000000</td>\n",
       "      <td>NaN</td>\n",
       "      <td>NaN</td>\n",
       "      <td>8.0</td>\n",
       "      <td>4.0</td>\n",
       "      <td>11.0</td>\n",
       "      <td>19.0</td>\n",
       "      <td>NaN</td>\n",
       "      <td>2.0</td>\n",
       "      <td>8.0</td>\n",
       "      <td>NaN</td>\n",
       "    </tr>\n",
       "    <tr>\n",
       "      <th>4</th>\n",
       "      <td>815</td>\n",
       "      <td>96</td>\n",
       "      <td>201804</td>\n",
       "      <td>179</td>\n",
       "      <td>12.780074</td>\n",
       "      <td>59.666667</td>\n",
       "      <td>11.0</td>\n",
       "      <td>0.061453</td>\n",
       "      <td>28.0</td>\n",
       "      <td>29.0</td>\n",
       "      <td>26.0</td>\n",
       "      <td>31.0</td>\n",
       "      <td>11.0</td>\n",
       "      <td>18.0</td>\n",
       "      <td>36.0</td>\n",
       "      <td>NaN</td>\n",
       "    </tr>\n",
       "    <tr>\n",
       "      <th>...</th>\n",
       "      <td>...</td>\n",
       "      <td>...</td>\n",
       "      <td>...</td>\n",
       "      <td>...</td>\n",
       "      <td>...</td>\n",
       "      <td>...</td>\n",
       "      <td>...</td>\n",
       "      <td>...</td>\n",
       "      <td>...</td>\n",
       "      <td>...</td>\n",
       "      <td>...</td>\n",
       "      <td>...</td>\n",
       "      <td>...</td>\n",
       "      <td>...</td>\n",
       "      <td>...</td>\n",
       "      <td>...</td>\n",
       "    </tr>\n",
       "    <tr>\n",
       "      <th>71967</th>\n",
       "      <td>9994</td>\n",
       "      <td>134</td>\n",
       "      <td>201811</td>\n",
       "      <td>14</td>\n",
       "      <td>13.519048</td>\n",
       "      <td>14.000000</td>\n",
       "      <td>NaN</td>\n",
       "      <td>NaN</td>\n",
       "      <td>NaN</td>\n",
       "      <td>4.0</td>\n",
       "      <td>NaN</td>\n",
       "      <td>4.0</td>\n",
       "      <td>NaN</td>\n",
       "      <td>NaN</td>\n",
       "      <td>6.0</td>\n",
       "      <td>0.0</td>\n",
       "    </tr>\n",
       "    <tr>\n",
       "      <th>71968</th>\n",
       "      <td>9995</td>\n",
       "      <td>134</td>\n",
       "      <td>201811</td>\n",
       "      <td>17</td>\n",
       "      <td>12.038235</td>\n",
       "      <td>17.000000</td>\n",
       "      <td>NaN</td>\n",
       "      <td>NaN</td>\n",
       "      <td>NaN</td>\n",
       "      <td>6.0</td>\n",
       "      <td>NaN</td>\n",
       "      <td>6.0</td>\n",
       "      <td>NaN</td>\n",
       "      <td>NaN</td>\n",
       "      <td>5.0</td>\n",
       "      <td>0.0</td>\n",
       "    </tr>\n",
       "    <tr>\n",
       "      <th>71969</th>\n",
       "      <td>9998</td>\n",
       "      <td>134</td>\n",
       "      <td>201811</td>\n",
       "      <td>10</td>\n",
       "      <td>13.063333</td>\n",
       "      <td>10.000000</td>\n",
       "      <td>NaN</td>\n",
       "      <td>NaN</td>\n",
       "      <td>NaN</td>\n",
       "      <td>7.0</td>\n",
       "      <td>1.0</td>\n",
       "      <td>2.0</td>\n",
       "      <td>NaN</td>\n",
       "      <td>NaN</td>\n",
       "      <td>NaN</td>\n",
       "      <td>0.0</td>\n",
       "    </tr>\n",
       "    <tr>\n",
       "      <th>71970</th>\n",
       "      <td>9999</td>\n",
       "      <td>134</td>\n",
       "      <td>201811</td>\n",
       "      <td>22</td>\n",
       "      <td>11.484091</td>\n",
       "      <td>22.000000</td>\n",
       "      <td>NaN</td>\n",
       "      <td>NaN</td>\n",
       "      <td>NaN</td>\n",
       "      <td>7.0</td>\n",
       "      <td>NaN</td>\n",
       "      <td>8.0</td>\n",
       "      <td>NaN</td>\n",
       "      <td>NaN</td>\n",
       "      <td>7.0</td>\n",
       "      <td>0.0</td>\n",
       "    </tr>\n",
       "    <tr>\n",
       "      <th>71971</th>\n",
       "      <td>C037</td>\n",
       "      <td>134</td>\n",
       "      <td>201811</td>\n",
       "      <td>14</td>\n",
       "      <td>15.655952</td>\n",
       "      <td>14.000000</td>\n",
       "      <td>NaN</td>\n",
       "      <td>NaN</td>\n",
       "      <td>NaN</td>\n",
       "      <td>6.0</td>\n",
       "      <td>NaN</td>\n",
       "      <td>3.0</td>\n",
       "      <td>NaN</td>\n",
       "      <td>NaN</td>\n",
       "      <td>5.0</td>\n",
       "      <td>0.0</td>\n",
       "    </tr>\n",
       "  </tbody>\n",
       "</table>\n",
       "<p>71972 rows × 16 columns</p>\n",
       "</div>"
      ],
      "text/plain": [
       "       Bici  x_num_dias_sin_uso_ult_4m   ancla  x_num_viajes_ult_4m  \\\n",
       "0       306                         81  201804                  304   \n",
       "1       349                        103  201804                  148   \n",
       "2       520                         94  201804                  209   \n",
       "3       678                        119  201804                   52   \n",
       "4       815                         96  201804                  179   \n",
       "...     ...                        ...     ...                  ...   \n",
       "71967  9994                        134  201811                   14   \n",
       "71968  9995                        134  201811                   17   \n",
       "71969  9998                        134  201811                   10   \n",
       "71970  9999                        134  201811                   22   \n",
       "71971  C037                        134  201811                   14   \n",
       "\n",
       "       x_duracion_prom_viaje_ult_4m  x_veces_uso_prom_mes_ult_4m  \\\n",
       "0                         12.811623                   101.333333   \n",
       "1                         12.778829                    74.000000   \n",
       "2                         13.789633                    69.666667   \n",
       "3                         13.075000                    52.000000   \n",
       "4                         12.780074                    59.666667   \n",
       "...                             ...                          ...   \n",
       "71967                     13.519048                    14.000000   \n",
       "71968                     12.038235                    17.000000   \n",
       "71969                     13.063333                    10.000000   \n",
       "71970                     11.484091                    22.000000   \n",
       "71971                     15.655952                    14.000000   \n",
       "\n",
       "       x_num_viajes_fin_ult_4m  x_pct_viajes_fin_ult_4m  \\\n",
       "0                         13.0                 0.042763   \n",
       "1                          7.0                 0.047297   \n",
       "2                         12.0                 0.057416   \n",
       "3                          NaN                      NaN   \n",
       "4                         11.0                 0.061453   \n",
       "...                        ...                      ...   \n",
       "71967                      NaN                      NaN   \n",
       "71968                      NaN                      NaN   \n",
       "71969                      NaN                      NaN   \n",
       "71970                      NaN                      NaN   \n",
       "71971                      NaN                      NaN   \n",
       "\n",
       "       x_num_viajes_en_0_ult_4m  x_num_viajes_en_J_ult_4m  \\\n",
       "0                          45.0                      48.0   \n",
       "1                          19.0                      20.0   \n",
       "2                          41.0                      26.0   \n",
       "3                           8.0                       4.0   \n",
       "4                          28.0                      29.0   \n",
       "...                         ...                       ...   \n",
       "71967                       NaN                       4.0   \n",
       "71968                       NaN                       6.0   \n",
       "71969                       NaN                       7.0   \n",
       "71970                       NaN                       7.0   \n",
       "71971                       NaN                       6.0   \n",
       "\n",
       "       x_num_viajes_en_L_ult_4m  x_num_viajes_en_M_ult_4m  \\\n",
       "0                          60.0                      56.0   \n",
       "1                          45.0                      29.0   \n",
       "2                          37.0                      41.0   \n",
       "3                          11.0                      19.0   \n",
       "4                          26.0                      31.0   \n",
       "...                         ...                       ...   \n",
       "71967                       NaN                       4.0   \n",
       "71968                       NaN                       6.0   \n",
       "71969                       1.0                       2.0   \n",
       "71970                       NaN                       8.0   \n",
       "71971                       NaN                       3.0   \n",
       "\n",
       "       x_num_viajes_en_S_ult_4m  x_num_viajes_en_V_ult_4m  \\\n",
       "0                          13.0                      25.0   \n",
       "1                           7.0                       6.0   \n",
       "2                          12.0                      20.0   \n",
       "3                           NaN                       2.0   \n",
       "4                          11.0                      18.0   \n",
       "...                         ...                       ...   \n",
       "71967                       NaN                       NaN   \n",
       "71968                       NaN                       NaN   \n",
       "71969                       NaN                       NaN   \n",
       "71970                       NaN                       NaN   \n",
       "71971                       NaN                       NaN   \n",
       "\n",
       "       x_num_viajes_en_X_ult_4m  desaparece  \n",
       "0                          57.0         NaN  \n",
       "1                          22.0         0.0  \n",
       "2                          32.0         NaN  \n",
       "3                           8.0         NaN  \n",
       "4                          36.0         NaN  \n",
       "...                         ...         ...  \n",
       "71967                       6.0         0.0  \n",
       "71968                       5.0         0.0  \n",
       "71969                       NaN         0.0  \n",
       "71970                       7.0         0.0  \n",
       "71971                       5.0         0.0  \n",
       "\n",
       "[71972 rows x 16 columns]"
      ]
     },
     "execution_count": 35,
     "metadata": {},
     "output_type": "execute_result"
    }
   ],
   "source": [
    "Sn"
   ]
  },
  {
   "cell_type": "code",
   "execution_count": 36,
   "id": "57743925",
   "metadata": {
    "ExecuteTime": {
     "end_time": "2022-07-16T09:51:13.595783Z",
     "start_time": "2022-07-16T09:51:13.592093Z"
    }
   },
   "outputs": [],
   "source": [
    "Sn['desaparece'].fillna(1,inplace=True)"
   ]
  },
  {
   "cell_type": "code",
   "execution_count": 37,
   "id": "34817b59",
   "metadata": {
    "ExecuteTime": {
     "end_time": "2022-07-16T09:51:13.603991Z",
     "start_time": "2022-07-16T09:51:13.597434Z"
    }
   },
   "outputs": [
    {
     "data": {
      "text/plain": [
       "0.0    0.547532\n",
       "1.0    0.452468\n",
       "Name: desaparece, dtype: float64"
      ]
     },
     "execution_count": 37,
     "metadata": {},
     "output_type": "execute_result"
    }
   ],
   "source": [
    "Sn['desaparece'].value_counts(1)"
   ]
  },
  {
   "cell_type": "markdown",
   "id": "61210e5e",
   "metadata": {},
   "source": [
    "# Análisis Exploratorio"
   ]
  },
  {
   "cell_type": "markdown",
   "id": "c0ec6662",
   "metadata": {},
   "source": [
    "Hasta que se construye el conjunto de entrenamiento se procede a hacer el análisis exploratorio "
   ]
  },
  {
   "cell_type": "code",
   "execution_count": 38,
   "id": "c9014024",
   "metadata": {
    "ExecuteTime": {
     "end_time": "2022-07-16T09:51:13.609016Z",
     "start_time": "2022-07-16T09:51:13.605815Z"
    }
   },
   "outputs": [],
   "source": [
    "varc = [v for v in Sn.columns if v[:2]=='x_']\n",
    "vart = ['desaparece']"
   ]
  },
  {
   "cell_type": "code",
   "execution_count": 39,
   "id": "5e2eba2b",
   "metadata": {
    "ExecuteTime": {
     "end_time": "2022-07-16T09:51:13.628247Z",
     "start_time": "2022-07-16T09:51:13.610689Z"
    }
   },
   "outputs": [],
   "source": [
    "X = Sn[varc].copy()"
   ]
  },
  {
   "cell_type": "markdown",
   "id": "5d50435f",
   "metadata": {},
   "source": [
    "## Missings"
   ]
  },
  {
   "cell_type": "code",
   "execution_count": 40,
   "id": "4bfd5380",
   "metadata": {
    "ExecuteTime": {
     "end_time": "2022-07-16T09:51:13.705895Z",
     "start_time": "2022-07-16T09:51:13.629947Z"
    }
   },
   "outputs": [
    {
     "data": {
      "text/html": [
       "<div>\n",
       "<style scoped>\n",
       "    .dataframe tbody tr th:only-of-type {\n",
       "        vertical-align: middle;\n",
       "    }\n",
       "\n",
       "    .dataframe tbody tr th {\n",
       "        vertical-align: top;\n",
       "    }\n",
       "\n",
       "    .dataframe thead th {\n",
       "        text-align: right;\n",
       "    }\n",
       "</style>\n",
       "<table border=\"1\" class=\"dataframe\">\n",
       "  <thead>\n",
       "    <tr style=\"text-align: right;\">\n",
       "      <th></th>\n",
       "      <th>count</th>\n",
       "    </tr>\n",
       "  </thead>\n",
       "  <tbody>\n",
       "    <tr>\n",
       "      <th>x_num_viajes_fin_ult_4m</th>\n",
       "      <td>0.084991</td>\n",
       "    </tr>\n",
       "    <tr>\n",
       "      <th>x_pct_viajes_fin_ult_4m</th>\n",
       "      <td>0.084991</td>\n",
       "    </tr>\n",
       "    <tr>\n",
       "      <th>x_num_viajes_en_S_ult_4m</th>\n",
       "      <td>0.084991</td>\n",
       "    </tr>\n",
       "    <tr>\n",
       "      <th>x_num_viajes_en_V_ult_4m</th>\n",
       "      <td>0.084561</td>\n",
       "    </tr>\n",
       "    <tr>\n",
       "      <th>x_num_viajes_en_0_ult_4m</th>\n",
       "      <td>0.078836</td>\n",
       "    </tr>\n",
       "    <tr>\n",
       "      <th>x_num_viajes_en_L_ult_4m</th>\n",
       "      <td>0.064456</td>\n",
       "    </tr>\n",
       "    <tr>\n",
       "      <th>x_num_viajes_en_M_ult_4m</th>\n",
       "      <td>0.024273</td>\n",
       "    </tr>\n",
       "    <tr>\n",
       "      <th>x_num_viajes_en_J_ult_4m</th>\n",
       "      <td>0.021175</td>\n",
       "    </tr>\n",
       "    <tr>\n",
       "      <th>x_num_viajes_en_X_ult_4m</th>\n",
       "      <td>0.016312</td>\n",
       "    </tr>\n",
       "    <tr>\n",
       "      <th>x_num_dias_sin_uso_ult_4m</th>\n",
       "      <td>0.000000</td>\n",
       "    </tr>\n",
       "    <tr>\n",
       "      <th>x_num_viajes_ult_4m</th>\n",
       "      <td>0.000000</td>\n",
       "    </tr>\n",
       "    <tr>\n",
       "      <th>x_duracion_prom_viaje_ult_4m</th>\n",
       "      <td>0.000000</td>\n",
       "    </tr>\n",
       "    <tr>\n",
       "      <th>x_veces_uso_prom_mes_ult_4m</th>\n",
       "      <td>0.000000</td>\n",
       "    </tr>\n",
       "  </tbody>\n",
       "</table>\n",
       "</div>"
      ],
      "text/plain": [
       "                                 count\n",
       "x_num_viajes_fin_ult_4m       0.084991\n",
       "x_pct_viajes_fin_ult_4m       0.084991\n",
       "x_num_viajes_en_S_ult_4m      0.084991\n",
       "x_num_viajes_en_V_ult_4m      0.084561\n",
       "x_num_viajes_en_0_ult_4m      0.078836\n",
       "x_num_viajes_en_L_ult_4m      0.064456\n",
       "x_num_viajes_en_M_ult_4m      0.024273\n",
       "x_num_viajes_en_J_ult_4m      0.021175\n",
       "x_num_viajes_en_X_ult_4m      0.016312\n",
       "x_num_dias_sin_uso_ult_4m     0.000000\n",
       "x_num_viajes_ult_4m           0.000000\n",
       "x_duracion_prom_viaje_ult_4m  0.000000\n",
       "x_veces_uso_prom_mes_ult_4m   0.000000"
      ]
     },
     "execution_count": 40,
     "metadata": {},
     "output_type": "execute_result"
    }
   ],
   "source": [
    "miss = 1-X.describe().T[['count']]/len(Sn)\n",
    "miss.sort_values(by='count',ascending=False,inplace=True)\n",
    "miss"
   ]
  },
  {
   "cell_type": "code",
   "execution_count": 41,
   "id": "f31c6547",
   "metadata": {
    "ExecuteTime": {
     "end_time": "2022-07-16T09:51:13.718189Z",
     "start_time": "2022-07-16T09:51:13.707474Z"
    }
   },
   "outputs": [
    {
     "data": {
      "text/plain": [
       "((64105, 13), (71972, 13))"
      ]
     },
     "execution_count": 41,
     "metadata": {},
     "output_type": "execute_result"
    }
   ],
   "source": [
    "X.dropna().shape,X.shape"
   ]
  },
  {
   "cell_type": "code",
   "execution_count": 42,
   "id": "a8c7df18",
   "metadata": {
    "ExecuteTime": {
     "end_time": "2022-07-16T09:51:13.723066Z",
     "start_time": "2022-07-16T09:51:13.719825Z"
    }
   },
   "outputs": [],
   "source": [
    "#Creamos el Objeto\n",
    "im = SimpleImputer(strategy='median')"
   ]
  },
  {
   "cell_type": "code",
   "execution_count": 43,
   "id": "5980b8d3",
   "metadata": {
    "ExecuteTime": {
     "end_time": "2022-07-16T09:51:13.853965Z",
     "start_time": "2022-07-16T09:51:13.725952Z"
    }
   },
   "outputs": [
    {
     "data": {
      "text/plain": [
       "SimpleImputer(strategy='median')"
      ]
     },
     "execution_count": 43,
     "metadata": {},
     "output_type": "execute_result"
    }
   ],
   "source": [
    "#Fiteamos el imputador\n",
    "im.fit(X)"
   ]
  },
  {
   "cell_type": "code",
   "execution_count": 44,
   "id": "e250e1c0",
   "metadata": {
    "ExecuteTime": {
     "end_time": "2022-07-16T09:51:13.868946Z",
     "start_time": "2022-07-16T09:51:13.855694Z"
    }
   },
   "outputs": [],
   "source": [
    "#Transformamos\n",
    "Xi = pd.DataFrame(im.transform(X),columns=varc)"
   ]
  },
  {
   "cell_type": "code",
   "execution_count": 45,
   "id": "233c99d8",
   "metadata": {
    "ExecuteTime": {
     "end_time": "2022-07-16T09:51:14.428544Z",
     "start_time": "2022-07-16T09:51:13.870372Z"
    }
   },
   "outputs": [
    {
     "data": {
      "text/html": [
       "<div>\n",
       "<style scoped>\n",
       "    .dataframe tbody tr th:only-of-type {\n",
       "        vertical-align: middle;\n",
       "    }\n",
       "\n",
       "    .dataframe tbody tr th {\n",
       "        vertical-align: top;\n",
       "    }\n",
       "\n",
       "    .dataframe thead th {\n",
       "        text-align: right;\n",
       "    }\n",
       "</style>\n",
       "<table border=\"1\" class=\"dataframe\">\n",
       "  <thead>\n",
       "    <tr style=\"text-align: right;\">\n",
       "      <th></th>\n",
       "      <th>ks</th>\n",
       "    </tr>\n",
       "    <tr>\n",
       "      <th>var</th>\n",
       "      <th></th>\n",
       "    </tr>\n",
       "  </thead>\n",
       "  <tbody>\n",
       "    <tr>\n",
       "      <th>x_pct_viajes_fin_ult_4m</th>\n",
       "      <td>0.042482</td>\n",
       "    </tr>\n",
       "    <tr>\n",
       "      <th>x_num_viajes_en_V_ult_4m</th>\n",
       "      <td>0.042107</td>\n",
       "    </tr>\n",
       "    <tr>\n",
       "      <th>x_num_viajes_fin_ult_4m</th>\n",
       "      <td>0.041793</td>\n",
       "    </tr>\n",
       "    <tr>\n",
       "      <th>x_num_viajes_en_S_ult_4m</th>\n",
       "      <td>0.041793</td>\n",
       "    </tr>\n",
       "    <tr>\n",
       "      <th>x_num_viajes_en_0_ult_4m</th>\n",
       "      <td>0.039329</td>\n",
       "    </tr>\n",
       "    <tr>\n",
       "      <th>x_num_viajes_en_L_ult_4m</th>\n",
       "      <td>0.031980</td>\n",
       "    </tr>\n",
       "    <tr>\n",
       "      <th>x_num_viajes_en_M_ult_4m</th>\n",
       "      <td>0.012101</td>\n",
       "    </tr>\n",
       "    <tr>\n",
       "      <th>x_num_viajes_en_J_ult_4m</th>\n",
       "      <td>0.010530</td>\n",
       "    </tr>\n",
       "    <tr>\n",
       "      <th>x_num_viajes_en_X_ult_4m</th>\n",
       "      <td>0.008129</td>\n",
       "    </tr>\n",
       "    <tr>\n",
       "      <th>x_num_dias_sin_uso_ult_4m</th>\n",
       "      <td>0.000000</td>\n",
       "    </tr>\n",
       "    <tr>\n",
       "      <th>x_num_viajes_ult_4m</th>\n",
       "      <td>0.000000</td>\n",
       "    </tr>\n",
       "    <tr>\n",
       "      <th>x_duracion_prom_viaje_ult_4m</th>\n",
       "      <td>0.000000</td>\n",
       "    </tr>\n",
       "    <tr>\n",
       "      <th>x_veces_uso_prom_mes_ult_4m</th>\n",
       "      <td>0.000000</td>\n",
       "    </tr>\n",
       "  </tbody>\n",
       "</table>\n",
       "</div>"
      ],
      "text/plain": [
       "                                    ks\n",
       "var                                   \n",
       "x_pct_viajes_fin_ult_4m       0.042482\n",
       "x_num_viajes_en_V_ult_4m      0.042107\n",
       "x_num_viajes_fin_ult_4m       0.041793\n",
       "x_num_viajes_en_S_ult_4m      0.041793\n",
       "x_num_viajes_en_0_ult_4m      0.039329\n",
       "x_num_viajes_en_L_ult_4m      0.031980\n",
       "x_num_viajes_en_M_ult_4m      0.012101\n",
       "x_num_viajes_en_J_ult_4m      0.010530\n",
       "x_num_viajes_en_X_ult_4m      0.008129\n",
       "x_num_dias_sin_uso_ult_4m     0.000000\n",
       "x_num_viajes_ult_4m           0.000000\n",
       "x_duracion_prom_viaje_ult_4m  0.000000\n",
       "x_veces_uso_prom_mes_ult_4m   0.000000"
      ]
     },
     "execution_count": 45,
     "metadata": {},
     "output_type": "execute_result"
    }
   ],
   "source": [
    "ks = pd.DataFrame(map(lambda v:(v,stats.ks_2samp(Xi[v],X[v].dropna()).statistic),varc),columns=['var','ks']).set_index('var')\n",
    "ks.sort_values(by='ks',ascending=False,inplace=True)\n",
    "ks"
   ]
  },
  {
   "cell_type": "markdown",
   "id": "46c1bc72",
   "metadata": {},
   "source": [
    "## Multicolinealidad"
   ]
  },
  {
   "cell_type": "code",
   "execution_count": 46,
   "id": "d6db6478",
   "metadata": {
    "ExecuteTime": {
     "end_time": "2022-07-16T09:51:14.852205Z",
     "start_time": "2022-07-16T09:51:14.429787Z"
    }
   },
   "outputs": [
    {
     "data": {
      "text/html": [
       "<div>\n",
       "<style scoped>\n",
       "    .dataframe tbody tr th:only-of-type {\n",
       "        vertical-align: middle;\n",
       "    }\n",
       "\n",
       "    .dataframe tbody tr th {\n",
       "        vertical-align: top;\n",
       "    }\n",
       "\n",
       "    .dataframe thead th {\n",
       "        text-align: right;\n",
       "    }\n",
       "</style>\n",
       "<table border=\"1\" class=\"dataframe\">\n",
       "  <thead>\n",
       "    <tr style=\"text-align: right;\">\n",
       "      <th></th>\n",
       "      <th>Cluster</th>\n",
       "      <th>Variable</th>\n",
       "      <th>RS_Own</th>\n",
       "      <th>RS_NC</th>\n",
       "      <th>RS_Ratio</th>\n",
       "    </tr>\n",
       "  </thead>\n",
       "  <tbody>\n",
       "    <tr>\n",
       "      <th>0</th>\n",
       "      <td>0</td>\n",
       "      <td>x_num_viajes_ult_4m</td>\n",
       "      <td>0.960509</td>\n",
       "      <td>0.040255</td>\n",
       "      <td>0.041148</td>\n",
       "    </tr>\n",
       "    <tr>\n",
       "      <th>1</th>\n",
       "      <td>0</td>\n",
       "      <td>x_num_dias_sin_uso_ult_4m</td>\n",
       "      <td>0.925188</td>\n",
       "      <td>0.033884</td>\n",
       "      <td>0.077436</td>\n",
       "    </tr>\n",
       "    <tr>\n",
       "      <th>2</th>\n",
       "      <td>0</td>\n",
       "      <td>x_num_viajes_en_J_ult_4m</td>\n",
       "      <td>0.890545</td>\n",
       "      <td>0.026485</td>\n",
       "      <td>0.112432</td>\n",
       "    </tr>\n",
       "    <tr>\n",
       "      <th>3</th>\n",
       "      <td>0</td>\n",
       "      <td>x_num_viajes_en_X_ult_4m</td>\n",
       "      <td>0.888600</td>\n",
       "      <td>0.025756</td>\n",
       "      <td>0.114345</td>\n",
       "    </tr>\n",
       "    <tr>\n",
       "      <th>4</th>\n",
       "      <td>0</td>\n",
       "      <td>x_num_viajes_en_M_ult_4m</td>\n",
       "      <td>0.879472</td>\n",
       "      <td>0.020560</td>\n",
       "      <td>0.123058</td>\n",
       "    </tr>\n",
       "    <tr>\n",
       "      <th>5</th>\n",
       "      <td>0</td>\n",
       "      <td>x_num_viajes_en_0_ult_4m</td>\n",
       "      <td>0.861031</td>\n",
       "      <td>0.044274</td>\n",
       "      <td>0.145406</td>\n",
       "    </tr>\n",
       "    <tr>\n",
       "      <th>6</th>\n",
       "      <td>0</td>\n",
       "      <td>x_num_viajes_en_L_ult_4m</td>\n",
       "      <td>0.856578</td>\n",
       "      <td>0.041214</td>\n",
       "      <td>0.149587</td>\n",
       "    </tr>\n",
       "    <tr>\n",
       "      <th>7</th>\n",
       "      <td>0</td>\n",
       "      <td>x_num_viajes_fin_ult_4m</td>\n",
       "      <td>0.809603</td>\n",
       "      <td>0.000057</td>\n",
       "      <td>0.190407</td>\n",
       "    </tr>\n",
       "    <tr>\n",
       "      <th>8</th>\n",
       "      <td>0</td>\n",
       "      <td>x_num_viajes_en_S_ult_4m</td>\n",
       "      <td>0.809603</td>\n",
       "      <td>0.000057</td>\n",
       "      <td>0.190407</td>\n",
       "    </tr>\n",
       "    <tr>\n",
       "      <th>9</th>\n",
       "      <td>0</td>\n",
       "      <td>x_num_viajes_en_V_ult_4m</td>\n",
       "      <td>0.796760</td>\n",
       "      <td>0.030761</td>\n",
       "      <td>0.209690</td>\n",
       "    </tr>\n",
       "    <tr>\n",
       "      <th>10</th>\n",
       "      <td>0</td>\n",
       "      <td>x_veces_uso_prom_mes_ult_4m</td>\n",
       "      <td>0.563494</td>\n",
       "      <td>0.029132</td>\n",
       "      <td>0.449604</td>\n",
       "    </tr>\n",
       "    <tr>\n",
       "      <th>11</th>\n",
       "      <td>1</td>\n",
       "      <td>x_duracion_prom_viaje_ult_4m</td>\n",
       "      <td>1.000000</td>\n",
       "      <td>0.000125</td>\n",
       "      <td>0.000000</td>\n",
       "    </tr>\n",
       "    <tr>\n",
       "      <th>12</th>\n",
       "      <td>2</td>\n",
       "      <td>x_pct_viajes_fin_ult_4m</td>\n",
       "      <td>1.000000</td>\n",
       "      <td>0.025207</td>\n",
       "      <td>0.000000</td>\n",
       "    </tr>\n",
       "  </tbody>\n",
       "</table>\n",
       "</div>"
      ],
      "text/plain": [
       "   Cluster                      Variable    RS_Own     RS_NC  RS_Ratio\n",
       "0        0           x_num_viajes_ult_4m  0.960509  0.040255  0.041148\n",
       "1        0     x_num_dias_sin_uso_ult_4m  0.925188  0.033884  0.077436\n",
       "2        0      x_num_viajes_en_J_ult_4m  0.890545  0.026485  0.112432\n",
       "3        0      x_num_viajes_en_X_ult_4m  0.888600  0.025756  0.114345\n",
       "4        0      x_num_viajes_en_M_ult_4m  0.879472  0.020560  0.123058\n",
       "5        0      x_num_viajes_en_0_ult_4m  0.861031  0.044274  0.145406\n",
       "6        0      x_num_viajes_en_L_ult_4m  0.856578  0.041214  0.149587\n",
       "7        0       x_num_viajes_fin_ult_4m  0.809603  0.000057  0.190407\n",
       "8        0      x_num_viajes_en_S_ult_4m  0.809603  0.000057  0.190407\n",
       "9        0      x_num_viajes_en_V_ult_4m  0.796760  0.030761  0.209690\n",
       "10       0   x_veces_uso_prom_mes_ult_4m  0.563494  0.029132  0.449604\n",
       "11       1  x_duracion_prom_viaje_ult_4m  1.000000  0.000125  0.000000\n",
       "12       2       x_pct_viajes_fin_ult_4m  1.000000  0.025207  0.000000"
      ]
     },
     "metadata": {},
     "output_type": "display_data"
    },
    {
     "data": {
      "text/plain": [
       "['x_duracion_prom_viaje_ult_4m',\n",
       " 'x_num_viajes_ult_4m',\n",
       " 'x_pct_viajes_fin_ult_4m']"
      ]
     },
     "execution_count": 46,
     "metadata": {},
     "output_type": "execute_result"
    }
   ],
   "source": [
    "vc = VarClusHi(df=Xi,feat_list=varc).varclus().rsquare\n",
    "vc = vc.sort_values(by=['Cluster','RS_Ratio']).reset_index(drop=True)\n",
    "display(vc)\n",
    "best = sorted(vc.groupby('Cluster').first()['Variable'])\n",
    "best"
   ]
  },
  {
   "cell_type": "markdown",
   "id": "1bfbfcec",
   "metadata": {},
   "source": [
    "## Extremos"
   ]
  },
  {
   "cell_type": "code",
   "execution_count": 47,
   "id": "e5d63668",
   "metadata": {
    "ExecuteTime": {
     "end_time": "2022-07-16T09:51:15.172820Z",
     "start_time": "2022-07-16T09:51:14.853562Z"
    }
   },
   "outputs": [
    {
     "data": {
      "text/plain": [
       "array([[<AxesSubplot:title={'center':'x_duracion_prom_viaje_ult_4m'}>,\n",
       "        <AxesSubplot:title={'center':'x_num_viajes_ult_4m'}>],\n",
       "       [<AxesSubplot:title={'center':'x_pct_viajes_fin_ult_4m'}>,\n",
       "        <AxesSubplot:>]], dtype=object)"
      ]
     },
     "execution_count": 47,
     "metadata": {},
     "output_type": "execute_result"
    },
    {
     "data": {
      "image/png": "[encoded data removed]",
      "text/plain": [
       "<Figure size 432x288 with 4 Axes>"
      ]
     },
     "metadata": {
      "needs_background": "light"
     },
     "output_type": "display_data"
    }
   ],
   "source": [
    "Xi[best].hist()"
   ]
  },
  {
   "cell_type": "code",
   "execution_count": 48,
   "id": "8c3382c7",
   "metadata": {
    "ExecuteTime": {
     "end_time": "2022-07-16T09:51:15.208597Z",
     "start_time": "2022-07-16T09:51:15.174167Z"
    }
   },
   "outputs": [
    {
     "data": {
      "text/plain": [
       "0    0.946299\n",
       "1    0.053701\n",
       "Name: ex_, dtype: float64"
      ]
     },
     "execution_count": 48,
     "metadata": {},
     "output_type": "execute_result"
    }
   ],
   "source": [
    "for v,li,ls in Xi[best].describe(percentiles=[0.01,0.99]).T[['1%','99%']].reset_index().values:\n",
    "    Xi[f'ex_{v}'] = ((Xi[v]<li)|(Xi[v]>ls)).astype(int)\n",
    "Xi['ex_'] = Xi.filter(like='ex_').max(axis=1)\n",
    "Xi['ex_'].value_counts(1)"
   ]
  },
  {
   "cell_type": "code",
   "execution_count": 49,
   "id": "0ec0099f",
   "metadata": {
    "ExecuteTime": {
     "end_time": "2022-07-16T09:51:15.224475Z",
     "start_time": "2022-07-16T09:51:15.210067Z"
    }
   },
   "outputs": [],
   "source": [
    "Xi[um] = X[um] = Sn[um]"
   ]
  },
  {
   "cell_type": "code",
   "execution_count": 50,
   "id": "dd3d2cc0",
   "metadata": {
    "ExecuteTime": {
     "end_time": "2022-07-16T09:51:15.254263Z",
     "start_time": "2022-07-16T09:51:15.225958Z"
    }
   },
   "outputs": [],
   "source": [
    "Xi = Xi.loc[Xi['ex_']==0].drop(Xi.filter(like='ex_').columns,axis=1).reset_index(drop=True)"
   ]
  },
  {
   "cell_type": "code",
   "execution_count": 51,
   "id": "8507b59c",
   "metadata": {
    "ExecuteTime": {
     "end_time": "2022-07-16T09:51:15.535493Z",
     "start_time": "2022-07-16T09:51:15.255443Z"
    }
   },
   "outputs": [
    {
     "data": {
      "text/plain": [
       "array([[<AxesSubplot:title={'center':'x_duracion_prom_viaje_ult_4m'}>,\n",
       "        <AxesSubplot:title={'center':'x_num_viajes_ult_4m'}>],\n",
       "       [<AxesSubplot:title={'center':'x_pct_viajes_fin_ult_4m'}>,\n",
       "        <AxesSubplot:>]], dtype=object)"
      ]
     },
     "execution_count": 51,
     "metadata": {},
     "output_type": "execute_result"
    },
    {
     "data": {
      "image/png": "[encoded data removed]",
      "text/plain": [
       "<Figure size 432x288 with 4 Axes>"
      ]
     },
     "metadata": {
      "needs_background": "light"
     },
     "output_type": "display_data"
    }
   ],
   "source": [
    "Xi[best].hist()"
   ]
  },
  {
   "cell_type": "markdown",
   "id": "97c71e58",
   "metadata": {},
   "source": [
    "# Selección de Variables con mayor poder predictivo"
   ]
  },
  {
   "cell_type": "code",
   "execution_count": 52,
   "id": "3f5b5340",
   "metadata": {
    "ExecuteTime": {
     "end_time": "2022-07-16T09:51:15.583949Z",
     "start_time": "2022-07-16T09:51:15.537057Z"
    }
   },
   "outputs": [],
   "source": [
    "Xi = Xi.merge(Sn[vart+um],on=um,how='inner')"
   ]
  },
  {
   "cell_type": "code",
   "execution_count": 53,
   "id": "41b73686",
   "metadata": {
    "ExecuteTime": {
     "end_time": "2022-07-16T09:51:15.607628Z",
     "start_time": "2022-07-16T09:51:15.585975Z"
    }
   },
   "outputs": [
    {
     "data": {
      "text/plain": [
       "SelectKBest(k=3)"
      ]
     },
     "execution_count": 53,
     "metadata": {},
     "output_type": "execute_result"
    }
   ],
   "source": [
    "sk = SelectKBest(k=len(best))\n",
    "sk.fit(Xi[best],Xi[vart[0]])"
   ]
  },
  {
   "cell_type": "code",
   "execution_count": 54,
   "id": "b60bd6c7",
   "metadata": {
    "ExecuteTime": {
     "end_time": "2022-07-16T09:51:15.900984Z",
     "start_time": "2022-07-16T09:51:15.609341Z"
    }
   },
   "outputs": [
    {
     "data": {
      "application/vnd.plotly.v1+json": {
       "config": {
        "linkText": "Export to plot.ly",
        "plotlyServerURL": "https://plot.ly",
        "showLink": true
       },
       "data": [
        {
         "marker": {
          "color": "rgba(128, 0, 128, 0.6)",
          "line": {
           "color": "rgba(128, 0, 128, 1.0)",
           "width": 1
          }
         },
         "name": "score",
         "orientation": "v",
         "text": "",
         "type": "bar",
         "x": [
          "x_num_viajes_ult_4m",
          "x_pct_viajes_fin_ult_4m",
          "x_duracion_prom_viaje_ult_4m"
         ],
         "y": [
          4491.969537087089,
          1519.0346370926318,
          466.957949884046
         ]
        }
       ],
       "layout": {
        "legend": {
         "bgcolor": "#F5F6F9",
         "font": {
          "color": "#4D5663"
         }
        },
        "paper_bgcolor": "#F5F6F9",
        "plot_bgcolor": "#F5F6F9",
        "template": {
         "data": {
          "bar": [
           {
            "error_x": {
             "color": "#2a3f5f"
            },
            "error_y": {
             "color": "#2a3f5f"
            },
            "marker": {
             "line": {
              "color": "#E5ECF6",
              "width": 0.5
             },
             "pattern": {
              "fillmode": "overlay",
              "size": 10,
              "solidity": 0.2
             }
            },
            "type": "bar"
           }
          ],
          "barpolar": [
           {
            "marker": {
             "line": {
              "color": "#E5ECF6",
              "width": 0.5
             },
             "pattern": {
              "fillmode": "overlay",
              "size": 10,
              "solidity": 0.2
             }
            },
            "type": "barpolar"
           }
          ],
          "carpet": [
           {
            "aaxis": {
             "endlinecolor": "#2a3f5f",
             "gridcolor": "white",
             "linecolor": "white",
             "minorgridcolor": "white",
             "startlinecolor": "#2a3f5f"
            },
            "baxis": {
             "endlinecolor": "#2a3f5f",
             "gridcolor": "white",
             "linecolor": "white",
             "minorgridcolor": "white",
             "startlinecolor": "#2a3f5f"
            },
            "type": "carpet"
           }
          ],
          "choropleth": [
           {
            "colorbar": {
             "outlinewidth": 0,
             "ticks": ""
            },
            "type": "choropleth"
           }
          ],
          "contour": [
           {
            "colorbar": {
             "outlinewidth": 0,
             "ticks": ""
            },
            "colorscale": [
             [
              0,
              "#0d0887"
             ],
             [
              0.1111111111111111,
              "#46039f"
             ],
             [
              0.2222222222222222,
              "#7201a8"
             ],
             [
              0.3333333333333333,
              "#9c179e"
             ],
             [
              0.4444444444444444,
              "#bd3786"
             ],
             [
              0.5555555555555556,
              "#d8576b"
             ],
             [
              0.6666666666666666,
              "#ed7953"
             ],
             [
              0.7777777777777778,
              "#fb9f3a"
             ],
             [
              0.8888888888888888,
              "#fdca26"
             ],
             [
              1,
              "#f0f921"
             ]
            ],
            "type": "contour"
           }
          ],
          "contourcarpet": [
           {
            "colorbar": {
             "outlinewidth": 0,
             "ticks": ""
            },
            "type": "contourcarpet"
           }
          ],
          "heatmap": [
           {
            "colorbar": {
             "outlinewidth": 0,
             "ticks": ""
            },
            "colorscale": [
             [
              0,
              "#0d0887"
             ],
             [
              0.1111111111111111,
              "#46039f"
             ],
             [
              0.2222222222222222,
              "#7201a8"
             ],
             [
              0.3333333333333333,
              "#9c179e"
             ],
             [
              0.4444444444444444,
              "#bd3786"
             ],
             [
              0.5555555555555556,
              "#d8576b"
             ],
             [
              0.6666666666666666,
              "#ed7953"
             ],
             [
              0.7777777777777778,
              "#fb9f3a"
             ],
             [
              0.8888888888888888,
              "#fdca26"
             ],
             [
              1,
              "#f0f921"
             ]
            ],
            "type": "heatmap"
           }
          ],
          "heatmapgl": [
           {
            "colorbar": {
             "outlinewidth": 0,
             "ticks": ""
            },
            "colorscale": [
             [
              0,
              "#0d0887"
             ],
             [
              0.1111111111111111,
              "#46039f"
             ],
             [
              0.2222222222222222,
              "#7201a8"
             ],
             [
              0.3333333333333333,
              "#9c179e"
             ],
             [
              0.4444444444444444,
              "#bd3786"
             ],
             [
              0.5555555555555556,
              "#d8576b"
             ],
             [
              0.6666666666666666,
              "#ed7953"
             ],
             [
              0.7777777777777778,
              "#fb9f3a"
             ],
             [
              0.8888888888888888,
              "#fdca26"
             ],
             [
              1,
              "#f0f921"
             ]
            ],
            "type": "heatmapgl"
           }
          ],
          "histogram": [
           {
            "marker": {
             "pattern": {
              "fillmode": "overlay",
              "size": 10,
              "solidity": 0.2
             }
            },
            "type": "histogram"
           }
          ],
          "histogram2d": [
           {
            "colorbar": {
             "outlinewidth": 0,
             "ticks": ""
            },
            "colorscale": [
             [
              0,
              "#0d0887"
             ],
             [
              0.1111111111111111,
              "#46039f"
             ],
             [
              0.2222222222222222,
              "#7201a8"
             ],
             [
              0.3333333333333333,
              "#9c179e"
             ],
             [
              0.4444444444444444,
              "#bd3786"
             ],
             [
              0.5555555555555556,
              "#d8576b"
             ],
             [
              0.6666666666666666,
              "#ed7953"
             ],
             [
              0.7777777777777778,
              "#fb9f3a"
             ],
             [
              0.8888888888888888,
              "#fdca26"
             ],
             [
              1,
              "#f0f921"
             ]
            ],
            "type": "histogram2d"
           }
          ],
          "histogram2dcontour": [
           {
            "colorbar": {
             "outlinewidth": 0,
             "ticks": ""
            },
            "colorscale": [
             [
              0,
              "#0d0887"
             ],
             [
              0.1111111111111111,
              "#46039f"
             ],
             [
              0.2222222222222222,
              "#7201a8"
             ],
             [
              0.3333333333333333,
              "#9c179e"
             ],
             [
              0.4444444444444444,
              "#bd3786"
             ],
             [
              0.5555555555555556,
              "#d8576b"
             ],
             [
              0.6666666666666666,
              "#ed7953"
             ],
             [
              0.7777777777777778,
              "#fb9f3a"
             ],
             [
              0.8888888888888888,
              "#fdca26"
             ],
             [
              1,
              "#f0f921"
             ]
            ],
            "type": "histogram2dcontour"
           }
          ],
          "mesh3d": [
           {
            "colorbar": {
             "outlinewidth": 0,
             "ticks": ""
            },
            "type": "mesh3d"
           }
          ],
          "parcoords": [
           {
            "line": {
             "colorbar": {
              "outlinewidth": 0,
              "ticks": ""
             }
            },
            "type": "parcoords"
           }
          ],
          "pie": [
           {
            "automargin": true,
            "type": "pie"
           }
          ],
          "scatter": [
           {
            "marker": {
             "colorbar": {
              "outlinewidth": 0,
              "ticks": ""
             }
            },
            "type": "scatter"
           }
          ],
          "scatter3d": [
           {
            "line": {
             "colorbar": {
              "outlinewidth": 0,
              "ticks": ""
             }
            },
            "marker": {
             "colorbar": {
              "outlinewidth": 0,
              "ticks": ""
             }
            },
            "type": "scatter3d"
           }
          ],
          "scattercarpet": [
           {
            "marker": {
             "colorbar": {
              "outlinewidth": 0,
              "ticks": ""
             }
            },
            "type": "scattercarpet"
           }
          ],
          "scattergeo": [
           {
            "marker": {
             "colorbar": {
              "outlinewidth": 0,
              "ticks": ""
             }
            },
            "type": "scattergeo"
           }
          ],
          "scattergl": [
           {
            "marker": {
             "colorbar": {
              "outlinewidth": 0,
              "ticks": ""
             }
            },
            "type": "scattergl"
           }
          ],
          "scattermapbox": [
           {
            "marker": {
             "colorbar": {
              "outlinewidth": 0,
              "ticks": ""
             }
            },
            "type": "scattermapbox"
           }
          ],
          "scatterpolar": [
           {
            "marker": {
             "colorbar": {
              "outlinewidth": 0,
              "ticks": ""
             }
            },
            "type": "scatterpolar"
           }
          ],
          "scatterpolargl": [
           {
            "marker": {
             "colorbar": {
              "outlinewidth": 0,
              "ticks": ""
             }
            },
            "type": "scatterpolargl"
           }
          ],
          "scatterternary": [
           {
            "marker": {
             "colorbar": {
              "outlinewidth": 0,
              "ticks": ""
             }
            },
            "type": "scatterternary"
           }
          ],
          "surface": [
           {
            "colorbar": {
             "outlinewidth": 0,
             "ticks": ""
            },
            "colorscale": [
             [
              0,
              "#0d0887"
             ],
             [
              0.1111111111111111,
              "#46039f"
             ],
             [
              0.2222222222222222,
              "#7201a8"
             ],
             [
              0.3333333333333333,
              "#9c179e"
             ],
             [
              0.4444444444444444,
              "#bd3786"
             ],
             [
              0.5555555555555556,
              "#d8576b"
             ],
             [
              0.6666666666666666,
              "#ed7953"
             ],
             [
              0.7777777777777778,
              "#fb9f3a"
             ],
             [
              0.8888888888888888,
              "#fdca26"
             ],
             [
              1,
              "#f0f921"
             ]
            ],
            "type": "surface"
           }
          ],
          "table": [
           {
            "cells": {
             "fill": {
              "color": "#EBF0F8"
             },
             "line": {
              "color": "white"
             }
            },
            "header": {
             "fill": {
              "color": "#C8D4E3"
             },
             "line": {
              "color": "white"
             }
            },
            "type": "table"
           }
          ]
         },
         "layout": {
          "annotationdefaults": {
           "arrowcolor": "#2a3f5f",
           "arrowhead": 0,
           "arrowwidth": 1
          },
          "autotypenumbers": "strict",
          "coloraxis": {
           "colorbar": {
            "outlinewidth": 0,
            "ticks": ""
           }
          },
          "colorscale": {
           "diverging": [
            [
             0,
             "#8e0152"
            ],
            [
             0.1,
             "#c51b7d"
            ],
            [
             0.2,
             "#de77ae"
            ],
            [
             0.3,
             "#f1b6da"
            ],
            [
             0.4,
             "#fde0ef"
            ],
            [
             0.5,
             "#f7f7f7"
            ],
            [
             0.6,
             "#e6f5d0"
            ],
            [
             0.7,
             "#b8e186"
            ],
            [
             0.8,
             "#7fbc41"
            ],
            [
             0.9,
             "#4d9221"
            ],
            [
             1,
             "#276419"
            ]
           ],
           "sequential": [
            [
             0,
             "#0d0887"
            ],
            [
             0.1111111111111111,
             "#46039f"
            ],
            [
             0.2222222222222222,
             "#7201a8"
            ],
            [
             0.3333333333333333,
             "#9c179e"
            ],
            [
             0.4444444444444444,
             "#bd3786"
            ],
            [
             0.5555555555555556,
             "#d8576b"
            ],
            [
             0.6666666666666666,
             "#ed7953"
            ],
            [
             0.7777777777777778,
             "#fb9f3a"
            ],
            [
             0.8888888888888888,
             "#fdca26"
            ],
            [
             1,
             "#f0f921"
            ]
           ],
           "sequentialminus": [
            [
             0,
             "#0d0887"
            ],
            [
             0.1111111111111111,
             "#46039f"
            ],
            [
             0.2222222222222222,
             "#7201a8"
            ],
            [
             0.3333333333333333,
             "#9c179e"
            ],
            [
             0.4444444444444444,
             "#bd3786"
            ],
            [
             0.5555555555555556,
             "#d8576b"
            ],
            [
             0.6666666666666666,
             "#ed7953"
            ],
            [
             0.7777777777777778,
             "#fb9f3a"
            ],
            [
             0.8888888888888888,
             "#fdca26"
            ],
            [
             1,
             "#f0f921"
            ]
           ]
          },
          "colorway": [
           "#636efa",
           "#EF553B",
           "#00cc96",
           "#ab63fa",
           "#FFA15A",
           "#19d3f3",
           "#FF6692",
           "#B6E880",
           "#FF97FF",
           "#FECB52"
          ],
          "font": {
           "color": "#2a3f5f"
          },
          "geo": {
           "bgcolor": "white",
           "lakecolor": "white",
           "landcolor": "#E5ECF6",
           "showlakes": true,
           "showland": true,
           "subunitcolor": "white"
          },
          "hoverlabel": {
           "align": "left"
          },
          "hovermode": "closest",
          "mapbox": {
           "style": "light"
          },
          "paper_bgcolor": "white",
          "plot_bgcolor": "#E5ECF6",
          "polar": {
           "angularaxis": {
            "gridcolor": "white",
            "linecolor": "white",
            "ticks": ""
           },
           "bgcolor": "#E5ECF6",
           "radialaxis": {
            "gridcolor": "white",
            "linecolor": "white",
            "ticks": ""
           }
          },
          "scene": {
           "xaxis": {
            "backgroundcolor": "#E5ECF6",
            "gridcolor": "white",
            "gridwidth": 2,
            "linecolor": "white",
            "showbackground": true,
            "ticks": "",
            "zerolinecolor": "white"
           },
           "yaxis": {
            "backgroundcolor": "#E5ECF6",
            "gridcolor": "white",
            "gridwidth": 2,
            "linecolor": "white",
            "showbackground": true,
            "ticks": "",
            "zerolinecolor": "white"
           },
           "zaxis": {
            "backgroundcolor": "#E5ECF6",
            "gridcolor": "white",
            "gridwidth": 2,
            "linecolor": "white",
            "showbackground": true,
            "ticks": "",
            "zerolinecolor": "white"
           }
          },
          "shapedefaults": {
           "line": {
            "color": "#2a3f5f"
           }
          },
          "ternary": {
           "aaxis": {
            "gridcolor": "white",
            "linecolor": "white",
            "ticks": ""
           },
           "baxis": {
            "gridcolor": "white",
            "linecolor": "white",
            "ticks": ""
           },
           "bgcolor": "#E5ECF6",
           "caxis": {
            "gridcolor": "white",
            "linecolor": "white",
            "ticks": ""
           }
          },
          "title": {
           "x": 0.05
          },
          "xaxis": {
           "automargin": true,
           "gridcolor": "white",
           "linecolor": "white",
           "ticks": "",
           "title": {
            "standoff": 15
           },
           "zerolinecolor": "white",
           "zerolinewidth": 2
          },
          "yaxis": {
           "automargin": true,
           "gridcolor": "white",
           "linecolor": "white",
           "ticks": "",
           "title": {
            "standoff": 15
           },
           "zerolinecolor": "white",
           "zerolinewidth": 2
          }
         }
        },
        "title": {
         "font": {
          "color": "#4D5663"
         }
        },
        "xaxis": {
         "gridcolor": "#E1E5ED",
         "showgrid": true,
         "tickfont": {
          "color": "#4D5663"
         },
         "title": {
          "font": {
           "color": "#4D5663"
          },
          "text": ""
         },
         "zerolinecolor": "#E1E5ED"
        },
        "yaxis": {
         "gridcolor": "#E1E5ED",
         "showgrid": true,
         "tickfont": {
          "color": "#4D5663"
         },
         "title": {
          "font": {
           "color": "#4D5663"
          },
          "text": ""
         },
         "zerolinecolor": "#E1E5ED"
        }
       }
      },
      "text/html": [
       "<div>                            <div id=\"af97572e-ee15-4b81-a81e-07d9f5ffc79b\" class=\"plotly-graph-div\" style=\"height:525px; width:100%;\"></div>            <script type=\"text/javascript\">                require([\"plotly\"], function(Plotly) {                    window.PLOTLYENV=window.PLOTLYENV || {};\n",
       "                    window.PLOTLYENV.BASE_URL='https://plot.ly';                                    if (document.getElementById(\"af97572e-ee15-4b81-a81e-07d9f5ffc79b\")) {                    Plotly.newPlot(                        \"af97572e-ee15-4b81-a81e-07d9f5ffc79b\",                        [{\"marker\":{\"color\":\"rgba(128, 0, 128, 0.6)\",\"line\":{\"color\":\"rgba(128, 0, 128, 1.0)\",\"width\":1}},\"name\":\"score\",\"orientation\":\"v\",\"text\":\"\",\"type\":\"bar\",\"x\":[\"x_num_viajes_ult_4m\",\"x_pct_viajes_fin_ult_4m\",\"x_duracion_prom_viaje_ult_4m\"],\"y\":[4491.969537087089,1519.0346370926318,466.957949884046]}],                        {\"legend\":{\"bgcolor\":\"#F5F6F9\",\"font\":{\"color\":\"#4D5663\"}},\"paper_bgcolor\":\"#F5F6F9\",\"plot_bgcolor\":\"#F5F6F9\",\"template\":{\"data\":{\"bar\":[{\"error_x\":{\"color\":\"#2a3f5f\"},\"error_y\":{\"color\":\"#2a3f5f\"},\"marker\":{\"line\":{\"color\":\"#E5ECF6\",\"width\":0.5},\"pattern\":{\"fillmode\":\"overlay\",\"size\":10,\"solidity\":0.2}},\"type\":\"bar\"}],\"barpolar\":[{\"marker\":{\"line\":{\"color\":\"#E5ECF6\",\"width\":0.5},\"pattern\":{\"fillmode\":\"overlay\",\"size\":10,\"solidity\":0.2}},\"type\":\"barpolar\"}],\"carpet\":[{\"aaxis\":{\"endlinecolor\":\"#2a3f5f\",\"gridcolor\":\"white\",\"linecolor\":\"white\",\"minorgridcolor\":\"white\",\"startlinecolor\":\"#2a3f5f\"},\"baxis\":{\"endlinecolor\":\"#2a3f5f\",\"gridcolor\":\"white\",\"linecolor\":\"white\",\"minorgridcolor\":\"white\",\"startlinecolor\":\"#2a3f5f\"},\"type\":\"carpet\"}],\"choropleth\":[{\"colorbar\":{\"outlinewidth\":0,\"ticks\":\"\"},\"type\":\"choropleth\"}],\"contour\":[{\"colorbar\":{\"outlinewidth\":0,\"ticks\":\"\"},\"colorscale\":[[0.0,\"#0d0887\"],[0.1111111111111111,\"#46039f\"],[0.2222222222222222,\"#7201a8\"],[0.3333333333333333,\"#9c179e\"],[0.4444444444444444,\"#bd3786\"],[0.5555555555555556,\"#d8576b\"],[0.6666666666666666,\"#ed7953\"],[0.7777777777777778,\"#fb9f3a\"],[0.8888888888888888,\"#fdca26\"],[1.0,\"#f0f921\"]],\"type\":\"contour\"}],\"contourcarpet\":[{\"colorbar\":{\"outlinewidth\":0,\"ticks\":\"\"},\"type\":\"contourcarpet\"}],\"heatmap\":[{\"colorbar\":{\"outlinewidth\":0,\"ticks\":\"\"},\"colorscale\":[[0.0,\"#0d0887\"],[0.1111111111111111,\"#46039f\"],[0.2222222222222222,\"#7201a8\"],[0.3333333333333333,\"#9c179e\"],[0.4444444444444444,\"#bd3786\"],[0.5555555555555556,\"#d8576b\"],[0.6666666666666666,\"#ed7953\"],[0.7777777777777778,\"#fb9f3a\"],[0.8888888888888888,\"#fdca26\"],[1.0,\"#f0f921\"]],\"type\":\"heatmap\"}],\"heatmapgl\":[{\"colorbar\":{\"outlinewidth\":0,\"ticks\":\"\"},\"colorscale\":[[0.0,\"#0d0887\"],[0.1111111111111111,\"#46039f\"],[0.2222222222222222,\"#7201a8\"],[0.3333333333333333,\"#9c179e\"],[0.4444444444444444,\"#bd3786\"],[0.5555555555555556,\"#d8576b\"],[0.6666666666666666,\"#ed7953\"],[0.7777777777777778,\"#fb9f3a\"],[0.8888888888888888,\"#fdca26\"],[1.0,\"#f0f921\"]],\"type\":\"heatmapgl\"}],\"histogram\":[{\"marker\":{\"pattern\":{\"fillmode\":\"overlay\",\"size\":10,\"solidity\":0.2}},\"type\":\"histogram\"}],\"histogram2d\":[{\"colorbar\":{\"outlinewidth\":0,\"ticks\":\"\"},\"colorscale\":[[0.0,\"#0d0887\"],[0.1111111111111111,\"#46039f\"],[0.2222222222222222,\"#7201a8\"],[0.3333333333333333,\"#9c179e\"],[0.4444444444444444,\"#bd3786\"],[0.5555555555555556,\"#d8576b\"],[0.6666666666666666,\"#ed7953\"],[0.7777777777777778,\"#fb9f3a\"],[0.8888888888888888,\"#fdca26\"],[1.0,\"#f0f921\"]],\"type\":\"histogram2d\"}],\"histogram2dcontour\":[{\"colorbar\":{\"outlinewidth\":0,\"ticks\":\"\"},\"colorscale\":[[0.0,\"#0d0887\"],[0.1111111111111111,\"#46039f\"],[0.2222222222222222,\"#7201a8\"],[0.3333333333333333,\"#9c179e\"],[0.4444444444444444,\"#bd3786\"],[0.5555555555555556,\"#d8576b\"],[0.6666666666666666,\"#ed7953\"],[0.7777777777777778,\"#fb9f3a\"],[0.8888888888888888,\"#fdca26\"],[1.0,\"#f0f921\"]],\"type\":\"histogram2dcontour\"}],\"mesh3d\":[{\"colorbar\":{\"outlinewidth\":0,\"ticks\":\"\"},\"type\":\"mesh3d\"}],\"parcoords\":[{\"line\":{\"colorbar\":{\"outlinewidth\":0,\"ticks\":\"\"}},\"type\":\"parcoords\"}],\"pie\":[{\"automargin\":true,\"type\":\"pie\"}],\"scatter\":[{\"marker\":{\"colorbar\":{\"outlinewidth\":0,\"ticks\":\"\"}},\"type\":\"scatter\"}],\"scatter3d\":[{\"line\":{\"colorbar\":{\"outlinewidth\":0,\"ticks\":\"\"}},\"marker\":{\"colorbar\":{\"outlinewidth\":0,\"ticks\":\"\"}},\"type\":\"scatter3d\"}],\"scattercarpet\":[{\"marker\":{\"colorbar\":{\"outlinewidth\":0,\"ticks\":\"\"}},\"type\":\"scattercarpet\"}],\"scattergeo\":[{\"marker\":{\"colorbar\":{\"outlinewidth\":0,\"ticks\":\"\"}},\"type\":\"scattergeo\"}],\"scattergl\":[{\"marker\":{\"colorbar\":{\"outlinewidth\":0,\"ticks\":\"\"}},\"type\":\"scattergl\"}],\"scattermapbox\":[{\"marker\":{\"colorbar\":{\"outlinewidth\":0,\"ticks\":\"\"}},\"type\":\"scattermapbox\"}],\"scatterpolar\":[{\"marker\":{\"colorbar\":{\"outlinewidth\":0,\"ticks\":\"\"}},\"type\":\"scatterpolar\"}],\"scatterpolargl\":[{\"marker\":{\"colorbar\":{\"outlinewidth\":0,\"ticks\":\"\"}},\"type\":\"scatterpolargl\"}],\"scatterternary\":[{\"marker\":{\"colorbar\":{\"outlinewidth\":0,\"ticks\":\"\"}},\"type\":\"scatterternary\"}],\"surface\":[{\"colorbar\":{\"outlinewidth\":0,\"ticks\":\"\"},\"colorscale\":[[0.0,\"#0d0887\"],[0.1111111111111111,\"#46039f\"],[0.2222222222222222,\"#7201a8\"],[0.3333333333333333,\"#9c179e\"],[0.4444444444444444,\"#bd3786\"],[0.5555555555555556,\"#d8576b\"],[0.6666666666666666,\"#ed7953\"],[0.7777777777777778,\"#fb9f3a\"],[0.8888888888888888,\"#fdca26\"],[1.0,\"#f0f921\"]],\"type\":\"surface\"}],\"table\":[{\"cells\":{\"fill\":{\"color\":\"#EBF0F8\"},\"line\":{\"color\":\"white\"}},\"header\":{\"fill\":{\"color\":\"#C8D4E3\"},\"line\":{\"color\":\"white\"}},\"type\":\"table\"}]},\"layout\":{\"annotationdefaults\":{\"arrowcolor\":\"#2a3f5f\",\"arrowhead\":0,\"arrowwidth\":1},\"autotypenumbers\":\"strict\",\"coloraxis\":{\"colorbar\":{\"outlinewidth\":0,\"ticks\":\"\"}},\"colorscale\":{\"diverging\":[[0,\"#8e0152\"],[0.1,\"#c51b7d\"],[0.2,\"#de77ae\"],[0.3,\"#f1b6da\"],[0.4,\"#fde0ef\"],[0.5,\"#f7f7f7\"],[0.6,\"#e6f5d0\"],[0.7,\"#b8e186\"],[0.8,\"#7fbc41\"],[0.9,\"#4d9221\"],[1,\"#276419\"]],\"sequential\":[[0.0,\"#0d0887\"],[0.1111111111111111,\"#46039f\"],[0.2222222222222222,\"#7201a8\"],[0.3333333333333333,\"#9c179e\"],[0.4444444444444444,\"#bd3786\"],[0.5555555555555556,\"#d8576b\"],[0.6666666666666666,\"#ed7953\"],[0.7777777777777778,\"#fb9f3a\"],[0.8888888888888888,\"#fdca26\"],[1.0,\"#f0f921\"]],\"sequentialminus\":[[0.0,\"#0d0887\"],[0.1111111111111111,\"#46039f\"],[0.2222222222222222,\"#7201a8\"],[0.3333333333333333,\"#9c179e\"],[0.4444444444444444,\"#bd3786\"],[0.5555555555555556,\"#d8576b\"],[0.6666666666666666,\"#ed7953\"],[0.7777777777777778,\"#fb9f3a\"],[0.8888888888888888,\"#fdca26\"],[1.0,\"#f0f921\"]]},\"colorway\":[\"#636efa\",\"#EF553B\",\"#00cc96\",\"#ab63fa\",\"#FFA15A\",\"#19d3f3\",\"#FF6692\",\"#B6E880\",\"#FF97FF\",\"#FECB52\"],\"font\":{\"color\":\"#2a3f5f\"},\"geo\":{\"bgcolor\":\"white\",\"lakecolor\":\"white\",\"landcolor\":\"#E5ECF6\",\"showlakes\":true,\"showland\":true,\"subunitcolor\":\"white\"},\"hoverlabel\":{\"align\":\"left\"},\"hovermode\":\"closest\",\"mapbox\":{\"style\":\"light\"},\"paper_bgcolor\":\"white\",\"plot_bgcolor\":\"#E5ECF6\",\"polar\":{\"angularaxis\":{\"gridcolor\":\"white\",\"linecolor\":\"white\",\"ticks\":\"\"},\"bgcolor\":\"#E5ECF6\",\"radialaxis\":{\"gridcolor\":\"white\",\"linecolor\":\"white\",\"ticks\":\"\"}},\"scene\":{\"xaxis\":{\"backgroundcolor\":\"#E5ECF6\",\"gridcolor\":\"white\",\"gridwidth\":2,\"linecolor\":\"white\",\"showbackground\":true,\"ticks\":\"\",\"zerolinecolor\":\"white\"},\"yaxis\":{\"backgroundcolor\":\"#E5ECF6\",\"gridcolor\":\"white\",\"gridwidth\":2,\"linecolor\":\"white\",\"showbackground\":true,\"ticks\":\"\",\"zerolinecolor\":\"white\"},\"zaxis\":{\"backgroundcolor\":\"#E5ECF6\",\"gridcolor\":\"white\",\"gridwidth\":2,\"linecolor\":\"white\",\"showbackground\":true,\"ticks\":\"\",\"zerolinecolor\":\"white\"}},\"shapedefaults\":{\"line\":{\"color\":\"#2a3f5f\"}},\"ternary\":{\"aaxis\":{\"gridcolor\":\"white\",\"linecolor\":\"white\",\"ticks\":\"\"},\"baxis\":{\"gridcolor\":\"white\",\"linecolor\":\"white\",\"ticks\":\"\"},\"bgcolor\":\"#E5ECF6\",\"caxis\":{\"gridcolor\":\"white\",\"linecolor\":\"white\",\"ticks\":\"\"}},\"title\":{\"x\":0.05},\"xaxis\":{\"automargin\":true,\"gridcolor\":\"white\",\"linecolor\":\"white\",\"ticks\":\"\",\"title\":{\"standoff\":15},\"zerolinecolor\":\"white\",\"zerolinewidth\":2},\"yaxis\":{\"automargin\":true,\"gridcolor\":\"white\",\"linecolor\":\"white\",\"ticks\":\"\",\"title\":{\"standoff\":15},\"zerolinecolor\":\"white\",\"zerolinewidth\":2}}},\"title\":{\"font\":{\"color\":\"#4D5663\"}},\"xaxis\":{\"gridcolor\":\"#E1E5ED\",\"showgrid\":true,\"tickfont\":{\"color\":\"#4D5663\"},\"title\":{\"font\":{\"color\":\"#4D5663\"},\"text\":\"\"},\"zerolinecolor\":\"#E1E5ED\"},\"yaxis\":{\"gridcolor\":\"#E1E5ED\",\"showgrid\":true,\"tickfont\":{\"color\":\"#4D5663\"},\"title\":{\"font\":{\"color\":\"#4D5663\"},\"text\":\"\"},\"zerolinecolor\":\"#E1E5ED\"}},                        {\"showLink\": true, \"linkText\": \"Export to plot.ly\", \"plotlyServerURL\": \"https://plot.ly\", \"responsive\": true}                    ).then(function(){\n",
       "                            \n",
       "var gd = document.getElementById('af97572e-ee15-4b81-a81e-07d9f5ffc79b');\n",
       "var x = new MutationObserver(function (mutations, observer) {{\n",
       "        var display = window.getComputedStyle(gd).display;\n",
       "        if (!display || display === 'none') {{\n",
       "            console.log([gd, 'removed!']);\n",
       "            Plotly.purge(gd);\n",
       "            observer.disconnect();\n",
       "        }}\n",
       "}});\n",
       "\n",
       "// Listen for the removal of the full notebook cells\n",
       "var notebookContainer = gd.closest('#notebook-container');\n",
       "if (notebookContainer) {{\n",
       "    x.observe(notebookContainer, {childList: true});\n",
       "}}\n",
       "\n",
       "// Listen for the clearing of the current output cell\n",
       "var outputEl = gd.closest('.output');\n",
       "if (outputEl) {{\n",
       "    x.observe(outputEl, {childList: true});\n",
       "}}\n",
       "\n",
       "                        })                };                });            </script>        </div>"
      ]
     },
     "metadata": {},
     "output_type": "display_data"
    }
   ],
   "source": [
    "pd.DataFrame(zip(best,sk.scores_),\n",
    "             columns=['var','score']).set_index('var').sort_values(by='score',\n",
    "                                                                   ascending=False).iplot(kind='bar',\n",
    "                                                                                          color='purple')"
   ]
  },
  {
   "cell_type": "code",
   "execution_count": 55,
   "id": "7d084915",
   "metadata": {
    "ExecuteTime": {
     "end_time": "2022-07-16T09:51:15.906065Z",
     "start_time": "2022-07-16T09:51:15.902048Z"
    }
   },
   "outputs": [
    {
     "data": {
      "text/plain": [
       "['x_duracion_prom_viaje_ult_4m',\n",
       " 'x_num_viajes_ult_4m',\n",
       " 'x_pct_viajes_fin_ult_4m']"
      ]
     },
     "execution_count": 55,
     "metadata": {},
     "output_type": "execute_result"
    }
   ],
   "source": [
    "best = [a for a,b in zip(best,sk.get_support()) if b]\n",
    "best"
   ]
  },
  {
   "cell_type": "markdown",
   "id": "alternative-synthetic",
   "metadata": {},
   "source": [
    "# Partición de entrenamiento"
   ]
  },
  {
   "cell_type": "code",
   "execution_count": 56,
   "id": "chronic-native",
   "metadata": {
    "ExecuteTime": {
     "end_time": "2022-07-16T09:51:15.937032Z",
     "start_time": "2022-07-16T09:51:15.907306Z"
    }
   },
   "outputs": [],
   "source": [
    "Xt, Xv, yt, yv = train_test_split(Xi[um+best],Xi[um+vart],train_size=0.7)\n",
    "Xt.reset_index(drop=True,inplace=True)\n",
    "Xv.reset_index(drop=True,inplace=True)\n",
    "yt.reset_index(drop=True,inplace=True)\n",
    "yv.reset_index(drop=True,inplace=True)"
   ]
  },
  {
   "cell_type": "code",
   "execution_count": 57,
   "id": "married-ontario",
   "metadata": {
    "ExecuteTime": {
     "end_time": "2022-07-16T09:51:15.942497Z",
     "start_time": "2022-07-16T09:51:15.938456Z"
    }
   },
   "outputs": [
    {
     "data": {
      "text/plain": [
       "((47674, 5), (20433, 5))"
      ]
     },
     "execution_count": 57,
     "metadata": {},
     "output_type": "execute_result"
    }
   ],
   "source": [
    "Xt.shape,Xv.shape"
   ]
  },
  {
   "cell_type": "markdown",
   "id": "collaborative-museum",
   "metadata": {},
   "source": [
    "# Análisis Discriminante"
   ]
  },
  {
   "cell_type": "code",
   "execution_count": null,
   "id": "weekly-inspiration",
   "metadata": {
    "ExecuteTime": {
     "start_time": "2022-07-16T09:44:51.223Z"
    }
   },
   "outputs": [],
   "source": [
    "modelo = LinearDiscriminantAnalysis()\n",
    "modelo.fit(Xt[best],yt[vart[0]])"
   ]
  },
  {
   "cell_type": "code",
   "execution_count": null,
   "id": "turned-catalog",
   "metadata": {
    "ExecuteTime": {
     "start_time": "2022-07-16T09:44:51.225Z"
    }
   },
   "outputs": [],
   "source": [
    "St = Xt.merge(yt,on=um,how='inner')\n",
    "Sv = Xv.merge(yv,on=um,how='inner')"
   ]
  },
  {
   "cell_type": "code",
   "execution_count": null,
   "id": "later-minneapolis",
   "metadata": {
    "ExecuteTime": {
     "start_time": "2022-07-16T09:44:51.229Z"
    }
   },
   "outputs": [],
   "source": [
    "St['y^'] = modelo.predict(Xt[best]).astype(int)\n",
    "Sv['y^'] = modelo.predict(Xv[best]).astype(int)\n",
    "\n",
    "St['proba'] = modelo.predict_proba(Xt[best])[:,1]\n",
    "Sv['proba'] = modelo.predict_proba(Xv[best])[:,1]"
   ]
  },
  {
   "cell_type": "code",
   "execution_count": null,
   "id": "hairy-austin",
   "metadata": {
    "ExecuteTime": {
     "start_time": "2022-07-16T09:44:51.231Z"
    }
   },
   "outputs": [],
   "source": [
    "print(accuracy_score(y_true=St[vart[0]],y_pred=St['y^']))\n",
    "print(accuracy_score(y_true=Sv[vart[0]],y_pred=Sv['y^']))\n",
    "\n",
    "print(roc_auc_score(y_true=St[vart[0]],y_score=modelo.predict_proba(Xt[best])[:,1]))\n",
    "print(roc_auc_score(y_true=Sv[vart[0]],y_score=modelo.predict_proba(Xv[best])[:,1]))"
   ]
  },
  {
   "cell_type": "markdown",
   "id": "d87461c5",
   "metadata": {},
   "source": [
    "# Regresión Logística"
   ]
  },
  {
   "cell_type": "markdown",
   "id": "2de0e5d2",
   "metadata": {},
   "source": [
    "# Máquina Vector Soporte"
   ]
  },
  {
   "cell_type": "code",
   "execution_count": 63,
   "id": "dfdd74a5",
   "metadata": {
    "ExecuteTime": {
     "end_time": "2022-07-16T10:00:58.178435Z",
     "start_time": "2022-07-16T10:00:58.174136Z"
    }
   },
   "outputs": [],
   "source": [
    "hp = dict(C = np.arange(0.1,2,0.1),\n",
    "          kernel =['linear', 'poly', 'rbf', 'sigmoid'],\n",
    "          degree = range(2,3),\n",
    "          probability = [True],\n",
    "         )"
   ]
  },
  {
   "cell_type": "code",
   "execution_count": 58,
   "id": "4ff9b8e9",
   "metadata": {
    "ExecuteTime": {
     "end_time": "2022-07-16T09:53:40.608683Z",
     "start_time": "2022-07-16T09:52:36.379799Z"
    }
   },
   "outputs": [
    {
     "data": {
      "text/plain": [
       "SVC()"
      ]
     },
     "execution_count": 58,
     "metadata": {},
     "output_type": "execute_result"
    }
   ],
   "source": [
    "modelo = SVC()\n",
    "modelo.fit(Xt[best], yt[vart[0]])"
   ]
  },
  {
   "cell_type": "code",
   "execution_count": null,
   "id": "425bf2a7",
   "metadata": {},
   "outputs": [],
   "source": [
    "grid = RandomizedSearchCV(param_distributions=hp,\n",
    "                          n_iter=100,\n",
    "                          cv=5,\n",
    "                          scoring='accuracy',\n",
    "                          n_jobs=-1,\n",
    "                          verbose=True,\n",
    "                          estimator=modelo)"
   ]
  },
  {
   "cell_type": "code",
   "execution_count": null,
   "id": "551abff6",
   "metadata": {},
   "outputs": [],
   "source": [
    "# Entrenamos nuestro grid \n",
    "grid.fit(Xt,yt)"
   ]
  },
  {
   "cell_type": "code",
   "execution_count": null,
   "id": "3a11ca00",
   "metadata": {},
   "outputs": [],
   "source": [
    "modelo = grid.best_estimator_\n",
    "modelo"
   ]
  },
  {
   "cell_type": "code",
   "execution_count": null,
   "id": "89edd42e",
   "metadata": {},
   "outputs": [],
   "source": [
    "modelo.fit(Xt,yt)"
   ]
  },
  {
   "cell_type": "code",
   "execution_count": 59,
   "id": "f03010fb",
   "metadata": {
    "ExecuteTime": {
     "end_time": "2022-07-16T09:53:40.688474Z",
     "start_time": "2022-07-16T09:53:40.611183Z"
    }
   },
   "outputs": [],
   "source": [
    "St = Xt.merge(yt,on=um,how='inner')\n",
    "Sv = Xv.merge(yv,on=um,how='inner')"
   ]
  },
  {
   "cell_type": "code",
   "execution_count": 61,
   "id": "3e2303c4",
   "metadata": {
    "ExecuteTime": {
     "end_time": "2022-07-16T09:57:50.647049Z",
     "start_time": "2022-07-16T09:56:14.192113Z"
    }
   },
   "outputs": [],
   "source": [
    "St['y^'] = modelo.predict(Xt[best]).astype(int)\n",
    "Sv['y^'] = modelo.predict(Xv[best]).astype(int)"
   ]
  },
  {
   "cell_type": "code",
   "execution_count": 62,
   "id": "67f739a1",
   "metadata": {
    "ExecuteTime": {
     "end_time": "2022-07-16T09:57:50.659202Z",
     "start_time": "2022-07-16T09:57:50.648469Z"
    }
   },
   "outputs": [
    {
     "name": "stdout",
     "output_type": "stream",
     "text": [
      "0.6758610563409825\n",
      "0.6780208486272207\n"
     ]
    }
   ],
   "source": [
    "print(accuracy_score(y_true=St[vart[0]],y_pred=St['y^']))\n",
    "print(accuracy_score(y_true=Sv[vart[0]],y_pred=Sv['y^']))"
   ]
  },
  {
   "cell_type": "code",
   "execution_count": null,
   "id": "6aa43e24",
   "metadata": {},
   "outputs": [],
   "source": [
    "print(confusion_matrix(y_pred=modelo.predict(St['y^']),y_true=St[vart[0]]))\n",
    "print(confusion_matrix(y_pred=modelo.predict(Sv['y^']),y_true=Sv[vart[0]]))"
   ]
  }
 ],
 "metadata": {
  "kernelspec": {
   "display_name": "tsc",
   "language": "python",
   "name": "tsc"
  },
  "language_info": {
   "codemirror_mode": {
    "name": "ipython",
    "version": 3
   },
   "file_extension": ".py",
   "mimetype": "text/x-python",
   "name": "python",
   "nbconvert_exporter": "python",
   "pygments_lexer": "ipython3",
   "version": "3.9.7"
  },
  "toc": {
   "base_numbering": 1,
   "nav_menu": {},
   "number_sections": true,
   "sideBar": true,
   "skip_h1_title": false,
   "title_cell": "Table of Contents",
   "title_sidebar": "Contents",
   "toc_cell": false,
   "toc_position": {},
   "toc_section_display": true,
   "toc_window_display": true
  }
 },
 "nbformat": 4,
 "nbformat_minor": 5
}
